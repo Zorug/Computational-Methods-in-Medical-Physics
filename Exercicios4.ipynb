{
 "cells": [
  {
   "cell_type": "markdown",
   "id": "b6cf0bf1-2363-4e7a-a68a-d33b2a80e24a",
   "metadata": {},
   "source": [
    "# __4.__ Estatística Inferencial."
   ]
  },
  {
   "cell_type": "markdown",
   "id": "8c1c68df-bec5-413e-a56f-f51e2110b823",
   "metadata": {},
   "source": [
    "__1.__ Imaginemos que a dose __média__ para um determinado procedimento de radiologia é de __0,1 ± 0,05 mSv__. Para um intervalo de __confiança de 95%__, teste a hipótese nula nos seguintes casos, considerando __testes unilaterais__:"
   ]
  },
  {
   "cell_type": "markdown",
   "id": "cdbaf588-c83d-41ef-bd3e-b01e6590f432",
   "metadata": {},
   "source": [
    "__a.__ um teste com um valor de 0,3 mSv."
   ]
  },
  {
   "cell_type": "markdown",
   "id": "a442144a-11a7-47f8-9f9e-1c83a48b5f76",
   "metadata": {},
   "source": [
    "__b.__ um teste com um valor de 0,14 mSv."
   ]
  },
  {
   "cell_type": "markdown",
   "id": "bedd495e-4421-4080-af74-5f307837718e",
   "metadata": {},
   "source": [
    "__c.__ 20 testes com uma média de valores de 0,12 mSv."
   ]
  },
  {
   "cell_type": "markdown",
   "id": "198736df-21ab-4cfa-a7e5-f302f6d88533",
   "metadata": {},
   "source": [
    "__d.__ 100 testes com uma média de valores de 0,09 mSv."
   ]
  },
  {
   "cell_type": "code",
   "execution_count": null,
   "id": "bce3aae3-9811-4212-9508-995a6d866390",
   "metadata": {},
   "outputs": [],
   "source": []
  }
 ],
 "metadata": {
  "kernelspec": {
   "display_name": "Python 3 (ipykernel)",
   "language": "python",
   "name": "python3"
  },
  "language_info": {
   "codemirror_mode": {
    "name": "ipython",
    "version": 3
   },
   "file_extension": ".py",
   "mimetype": "text/x-python",
   "name": "python",
   "nbconvert_exporter": "python",
   "pygments_lexer": "ipython3",
   "version": "3.9.7"
  }
 },
 "nbformat": 4,
 "nbformat_minor": 5
}
