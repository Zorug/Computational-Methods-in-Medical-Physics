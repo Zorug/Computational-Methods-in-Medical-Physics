{
 "cells": [
  {
   "cell_type": "markdown",
   "metadata": {},
   "source": [
    "<b>Método de rejeição.</b>\n",
    "\n",
    "Cálculo de Pi usando números aleatórios.\n",
    "\n",
    "Neste exemplo, faremos a estimativa do valor de $\\pi$ usando amostras de números aleatórios, mas iremos mais longe neste caso, usando um algoritmo de rejeição. A ideia por trás do cálculo de $\\pi$ utilizando métodos aleatórios foi pela primeira vez pensada por Buffon, e passa por nos lembrarmos do seguinte:\n",
    "\n",
    "Imaginemos um círculo de raio r inscrito dentro de um quadrado de lado L:\n"
   ]
  },
  {
   "cell_type": "code",
   "execution_count": 1,
   "metadata": {},
   "outputs": [
    {
     "data": {
      "text/html": [
       "<svg height=\"400\" width=\"400\"><line x1=\"190\" y1=\"190\" x2=\"340\" y2=\"190\" stroke=\"black\" stroke-width=\"3\" /><rect x=\"40\" y=\"40\" width=\"300\" height=\"300\" stroke=\"black\" stroke-width=\"3\" fill=\"none\" /><circle cx=\"190\" cy=\"190\" r=\"150\" stroke=\"black\" stroke-width=\"3\" fill=\"none\" /><text x=\"260\" y=\"185\" stroke-width=\"3\" fill=\"black\">r=L/2</text></svg>"
      ],
      "text/plain": [
       "<IPython.core.display.HTML object>"
      ]
     },
     "metadata": {},
     "output_type": "display_data"
    }
   ],
   "source": [
    "from IPython.core.display import HTML\n",
    "html = '<svg height=\"400\" width=\"400\"><line x1=\"190\" y1=\"190\" x2=\"340\" y2=\"190\" stroke=\"black\" stroke-width=\"3\" /><rect x=\"40\" y=\"40\" width=\"300\" height=\"300\" stroke=\"black\" stroke-width=\"3\" fill=\"none\" /><circle cx=\"190\" cy=\"190\" r=\"150\" stroke=\"black\" stroke-width=\"3\" fill=\"none\" /><text x=\"260\" y=\"185\" stroke-width=\"3\" fill=\"black\">r=L/2</text></svg>'\n",
    "display(HTML(html))"
   ]
  },
  {
   "cell_type": "markdown",
   "metadata": {},
   "source": [
    "A área do quadrado é de $A_q=L^2$, enquanto que a área do círculo é de $A_c=\\pi r^2=\\pi \\frac{L^2}{4}$.\n",
    "A razão da área do círculo para a área do quadrado será simplesmente de $ \\frac{A_c}{A_q} =\\frac{\\pi}{4}$. \n",
    "Uma forma de calcular o valor de $\\pi$ é simplesmente fazer \"tiro ao alvo\". Ou seja, consideramos um círculo de r=1. Definimos dois números aleatórios $-1\\leq x\\leq 1$ e $-1 \\leq y\\leq 1$.\n",
    "Se:\n",
    "- $x^2+y^2\\leq 1$, significa que o número se encontra dentro da área do círculo, então aceitamos (area=area+1);\n",
    "- $x^2+y^2>1$, significa que o número se encontra fora da área do círculo, <i>mas</i> dentro da área do quadrado, então não aceitamos.\n",
    "\n",
    "Se iterarmos $N$ vezes, com $N$ suficientemente grande, a soma de todos os números que aceitarmos, vai corresponder à estimativa da razão da área do círculo sobre a área do quadrado, que como já tínhamos visto, vale $\\frac{\\pi}{4}$. Então, multiplicando por 4, obtemos uma estimativa para o número $\\pi$. \n",
    "\n",
    "- $\\pi \\approx \\frac{4}{N}\\times area$"
   ]
  },
  {
   "cell_type": "code",
   "execution_count": 4,
   "metadata": {},
   "outputs": [
    {
     "name": "stdout",
     "output_type": "stream",
     "text": [
      "valor de pi= 3.141592653589793\n",
      "resultado= 3.1318263652730547\n",
      "desvio= 0.0031087061225390927\n"
     ]
    },
    {
     "data": {
      "image/png": "[encoded data removed]",
      "text/plain": [
       "<Figure size 432x432 with 1 Axes>"
      ]
     },
     "metadata": {
      "needs_background": "light"
     },
     "output_type": "display_data"
    }
   ],
   "source": [
    "%matplotlib inline\n",
    "from random import seed\n",
    "from random import random\n",
    "import os\n",
    "import math\n",
    "from math import pi\n",
    "from math import sqrt\n",
    "import matplotlib.pyplot as plt \n",
    "import numpy as np \n",
    "#figure, chart = plt.subplots(1, 1, figsize = (12,6))\n",
    "# integrar usando números aleatorios x e y de 0 a 1\n",
    "seed(1)\n",
    "x1=[0]\n",
    "y1=[0]\n",
    "x2=[]\n",
    "y2=[]\n",
    "x3=[]\n",
    "y3=[]\n",
    "res=[math.pi]\n",
    "for N in range (1,5000,1):\n",
    "    area=0\n",
    "    pi2=0\n",
    "    for i in range(N):\n",
    "        x=-1+2*random()\n",
    "        y=-1+2*random()\n",
    "        a=math.pi\n",
    "        r=x**2+y**2\n",
    "        if r<=1:\n",
    "            area = area + 1\n",
    "            x2.append(x)\n",
    "            y2.append(y)\n",
    "        else:\n",
    "            x3.append(x)\n",
    "            y3.append(y)\n",
    "    pi2=4/N*area\n",
    "    dev=abs((pi2-pi)/pi)\n",
    "    # print(dev)\n",
    "    x1.append(N)\n",
    "    y1.append(pi2)\n",
    "    res.append(a)\n",
    "plt.figure(figsize=(6,6))\n",
    "plt.scatter(x2, y2, color = 'g',s=1)\n",
    "plt.scatter(x3, y3, color = 'r',s=1)\n",
    "print('valor de pi=',math.pi)\n",
    "print('resultado=',pi2)\n",
    "print('desvio=',dev)\n",
    "\t"
   ]
  },
  {
   "cell_type": "code",
   "execution_count": null,
   "metadata": {},
   "outputs": [],
   "source": []
  }
 ],
 "metadata": {
  "kernelspec": {
   "display_name": "Python 3",
   "language": "python",
   "name": "python3"
  },
  "language_info": {
   "codemirror_mode": {
    "name": "ipython",
    "version": 3
   },
   "file_extension": ".py",
   "mimetype": "text/x-python",
   "name": "python",
   "nbconvert_exporter": "python",
   "pygments_lexer": "ipython3",
   "version": "3.7.6"
  }
 },
 "nbformat": 4,
 "nbformat_minor": 4
}
