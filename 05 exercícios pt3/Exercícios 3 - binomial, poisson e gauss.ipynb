{
 "cells": [
  {
   "cell_type": "markdown",
   "id": "5f18947f",
   "metadata": {},
   "source": [
    "# 3. Distribuições binomial, de Poisson e de Gauss"
   ]
  },
  {
   "cell_type": "markdown",
   "id": "7d07de5d",
   "metadata": {},
   "source": [
    "__1.__ Identifique qual ou quais destas perguntas podem ser respondidas através da distribuição de Poisson, e explique porquê:"
   ]
  },
  {
   "cell_type": "markdown",
   "id": "5b6b8de0",
   "metadata": {},
   "source": [
    "__a.__ Num determinado hospital existem __40 camas__ de UCI. A taxa de ocupação média ao\n",
    "longo de um ano, medida em diferentes semanas é de __21%__. Qual a probabilidade de\n",
    "__mais de 5 camas__ estarem ocupadas numa __semana__?"
   ]
  },
  {
   "cell_type": "code",
   "execution_count": 3,
   "id": "410074e1",
   "metadata": {},
   "outputs": [],
   "source": [
    "N_camas = 40\n",
    "ocupacao_semanal = N_camas*0.21 # seria o lambda\n",
    "# P(X>5)=1-P(X<6)=1-P(5)-P(4)-P(3)-P(2)-P(1)-P(0)\n",
    "# É uma poisson, Discrete, Region of Oportunity, Expected number of events"
   ]
  },
  {
   "cell_type": "markdown",
   "id": "dc02e951",
   "metadata": {},
   "source": [
    "__b.__ Num centro de radiologia, __400 pessoas__ realizaram uma radiografia do tórax num mês. \n",
    "20% tinham menos de 30 anos, 60% entre 30 e 70 anos, e 20% mais de 70 anos.\n",
    "Qual a probabilidade de 10 pessoas escolhidas terem menos de 30 anos?"
   ]
  },
  {
   "cell_type": "code",
   "execution_count": 4,
   "id": "fa9bd454",
   "metadata": {},
   "outputs": [],
   "source": [
    "# binomial? ter mais de 30 ou ter menos de 30\n",
    "N_escolhidos = 10\n",
    "P_sucess = 0.2"
   ]
  },
  {
   "cell_type": "markdown",
   "id": "680f63e9",
   "metadata": {},
   "source": [
    "__c.__ Num centro de medicina nuclear em média 800 pacientes realizam cintigrafias ósseas\n",
    "por semana. Qual a probabilidade de num dia, aparecerem 20 pacientes para realizar\n",
    "uma cintigrafia óssea?"
   ]
  },
  {
   "cell_type": "code",
   "execution_count": 5,
   "id": "f939520a",
   "metadata": {},
   "outputs": [],
   "source": [
    "# É Poisson\n",
    "cintilografias_semanais = 800 # aqui seria o lambda semanal\n",
    "cintilografias_diarias = cintilografias_semanais / 7 # aqui seria o lambda diário\n",
    "# P_diaria(X=20)"
   ]
  },
  {
   "cell_type": "markdown",
   "id": "58bb7061",
   "metadata": {},
   "source": [
    "__d.__ Num centro de radiologia, um dos equipamentos falha em média 5 vezes por ano.\n",
    "Qual a probabilidade de falhar 2 vezes num mês?"
   ]
  },
  {
   "cell_type": "code",
   "execution_count": 6,
   "id": "29ec4656",
   "metadata": {},
   "outputs": [],
   "source": [
    "# É Poisson\n",
    "falha_anual = 5 #lambda\n",
    "falha_mensal = falha_anual/12\n",
    "# P_mensal(X=2)"
   ]
  },
  {
   "cell_type": "markdown",
   "id": "876093f9",
   "metadata": {},
   "source": [
    "__e.__ Num determinado volume infinitesimal de um fantoma de água, em média, cada eletrão que o atravessa interage 4 vezes. Qual a probabilidade de 0 interações?"
   ]
  },
  {
   "cell_type": "code",
   "execution_count": 7,
   "id": "c2351ccd",
   "metadata": {},
   "outputs": [],
   "source": [
    "# Poisson\n",
    "media_interacoes = 4 # aqui seria lambda?\n",
    "# P(X=0)"
   ]
  },
  {
   "cell_type": "markdown",
   "id": "b0727da9",
   "metadata": {},
   "source": [
    "__2.__ Resolva as alíneas a. e c."
   ]
  },
  {
   "cell_type": "markdown",
   "id": "0ac520c4",
   "metadata": {},
   "source": [
    "__a.__ Num determinado hospital existem __40 camas__ de UCI. A taxa de ocupação média ao\n",
    "longo de um ano, medida em diferentes semanas é de __21%__. Qual a probabilidade de\n",
    "__mais de 5 camas__ estarem ocupadas numa __semana__?"
   ]
  },
  {
   "cell_type": "code",
   "execution_count": 8,
   "id": "770c59e9",
   "metadata": {},
   "outputs": [],
   "source": [
    "import numpy as np"
   ]
  },
  {
   "cell_type": "markdown",
   "id": "4d8a8a9a",
   "metadata": {},
   "source": [
    "### Poisson:       $ Pr(X=k) = \\frac{\\lambda^k e^{-\\lambda}}{k!} $"
   ]
  },
  {
   "cell_type": "code",
   "execution_count": 9,
   "id": "a0ad3e18",
   "metadata": {},
   "outputs": [],
   "source": [
    "def poisson(k, lamb):\n",
    "    return (lamb**k)*(np.exp(-lamb))/np.math.factorial(k)"
   ]
  },
  {
   "cell_type": "code",
   "execution_count": 10,
   "id": "1acdfba8",
   "metadata": {},
   "outputs": [],
   "source": [
    "n_camas = 40\n",
    "taxa_semanal = 0.21*n_camas #lambda"
   ]
  },
  {
   "cell_type": "code",
   "execution_count": 11,
   "id": "f83795a1",
   "metadata": {},
   "outputs": [
    {
     "name": "stdout",
     "output_type": "stream",
     "text": [
      "0 0.0002248673241788482\n",
      "1 0.001888885523102325\n",
      "2 0.007933319197029765\n",
      "3 0.02221329375168334\n",
      "4 0.04664791687853503\n",
      "5 0.07836850035593886\n"
     ]
    }
   ],
   "source": [
    "sum_prob = 0\n",
    "for k in range(6):\n",
    "    sum_prob = np.sum([sum_prob, poisson(k, taxa_semanal)])\n",
    "    print(k , poisson(k, taxa_semanal))"
   ]
  },
  {
   "cell_type": "code",
   "execution_count": 12,
   "id": "fcbdfacf",
   "metadata": {},
   "outputs": [
    {
     "data": {
      "text/plain": [
       "0.15727678303046816"
      ]
     },
     "execution_count": 12,
     "metadata": {},
     "output_type": "execute_result"
    }
   ],
   "source": [
    "sum_prob # até 5 camas"
   ]
  },
  {
   "cell_type": "code",
   "execution_count": 13,
   "id": "f1e4d979",
   "metadata": {},
   "outputs": [
    {
     "data": {
      "text/plain": [
       "0.8427232169695318"
      ]
     },
     "execution_count": 13,
     "metadata": {},
     "output_type": "execute_result"
    }
   ],
   "source": [
    "1 - sum_prob # mais de 5 camas"
   ]
  },
  {
   "cell_type": "markdown",
   "id": "2462a8d5",
   "metadata": {},
   "source": [
    "__c.__ Num centro de medicina nuclear em média 800 pacientes realizam cintigrafias ósseas\n",
    "por semana. Qual a probabilidade de num dia, aparecerem 20 pacientes para realizar\n",
    "uma cintigrafia óssea?"
   ]
  },
  {
   "cell_type": "code",
   "execution_count": 14,
   "id": "36592881",
   "metadata": {},
   "outputs": [
    {
     "data": {
      "text/plain": [
       "1.3805725944459812e-27"
      ]
     },
     "execution_count": 14,
     "metadata": {},
     "output_type": "execute_result"
    }
   ],
   "source": [
    "cintilografias_semana = 800 # lambda\n",
    "cintilografias_dia = cintilografias_semana/7\n",
    "x=20\n",
    "poisson(x, cintilografias_dia)"
   ]
  },
  {
   "cell_type": "code",
   "execution_count": 15,
   "id": "1a04e2a3",
   "metadata": {},
   "outputs": [
    {
     "data": {
      "text/plain": [
       "1.3805725944459654e-27"
      ]
     },
     "execution_count": 15,
     "metadata": {},
     "output_type": "execute_result"
    }
   ],
   "source": [
    "from scipy.stats import poisson\n",
    "poisson.pmf(k=x, mu=cintilografias_dia)"
   ]
  },
  {
   "cell_type": "markdown",
   "id": "1ca87ae4",
   "metadata": {},
   "source": [
    "__3.__ No caso da alínea a determine a probabilidade de até 5 camas estarem ocupadas."
   ]
  },
  {
   "cell_type": "code",
   "execution_count": 16,
   "id": "40266649",
   "metadata": {},
   "outputs": [
    {
     "name": "stdout",
     "output_type": "stream",
     "text": [
      "0 0.0002248673241788482\n",
      "1 0.0018888855231023256\n",
      "2 0.007933319197029763\n",
      "3 0.02221329375168334\n",
      "4 0.04664791687853503\n",
      "5 0.07836850035593887\n"
     ]
    }
   ],
   "source": [
    "sum_probs = 0.0\n",
    "for x in range(6):\n",
    "    p_x = poisson.pmf(k=x, mu=taxa_semanal)\n",
    "    sum_probs = sum([sum_probs, p_x])\n",
    "    print(x, p_x)"
   ]
  },
  {
   "cell_type": "code",
   "execution_count": 17,
   "id": "2fc3f17f",
   "metadata": {},
   "outputs": [
    {
     "data": {
      "text/plain": [
       "0.15727678303046816"
      ]
     },
     "execution_count": 17,
     "metadata": {},
     "output_type": "execute_result"
    }
   ],
   "source": [
    "sum_probs"
   ]
  },
  {
   "cell_type": "markdown",
   "id": "6ccb2efd",
   "metadata": {},
   "source": [
    "__4.__ No caso da alínea e. supondo que por cada interação são depositados em média 50 eV, faça o desenho da distribuição de probabilidades de energia depositada no voxel."
   ]
  },
  {
   "cell_type": "markdown",
   "id": "c860d8cf",
   "metadata": {},
   "source": [
    "__e.__ Num determinado volume infinitesimal de um fantoma de água, em média, cada eletrão que o atravessa interage 4 vezes. Qual a probabilidade de 0 interações?"
   ]
  },
  {
   "cell_type": "code",
   "execution_count": 18,
   "id": "cb2772df",
   "metadata": {},
   "outputs": [],
   "source": [
    "interacoes_eletron = 4\n",
    "energia_depositada = interacoes_eletron*50 # eV\n",
    "pmf_list = []\n",
    "for x in range (500):\n",
    "    pmf_list.append(poisson.pmf(k=x, mu=energia_depositada))"
   ]
  },
  {
   "cell_type": "code",
   "execution_count": 19,
   "id": "047ff8b0",
   "metadata": {},
   "outputs": [
    {
     "data": {
      "text/plain": [
       "[1.3838965267367376e-87,\n",
       " 2.767793053473506e-85,\n",
       " 2.767793053473453e-83,\n",
       " 1.845195368982327e-81,\n",
       " 9.225976844911442e-80,\n",
       " 3.69039073796466e-78,\n",
       " 1.2301302459881995e-76,\n",
       " 3.514657845680577e-75,\n",
       " 8.786644614201492e-74,\n",
       " 1.9525876920447517e-72,\n",
       " 3.905175384089584e-71,\n",
       " 7.100318880162794e-70,\n",
       " 1.1833864800271105e-68,\n",
       " 1.820594584657127e-67,\n",
       " 2.6008494066530395e-66,\n",
       " 3.467799208870707e-65,\n",
       " 4.3347490110884e-64,\n",
       " 5.099704718927573e-63,\n",
       " 5.66633857658611e-62,\n",
       " 5.964566922722236e-61,\n",
       " 5.964566922722179e-60,\n",
       " 5.680539926402101e-59,\n",
       " 5.164127205820167e-58,\n",
       " 4.490545396365253e-57,\n",
       " 3.742121163637741e-56,\n",
       " 2.9936969309102093e-55,\n",
       " 2.3028437930078265e-54,\n",
       " 1.7058102170428658e-53,\n",
       " 1.2184358693163306e-52,\n",
       " 8.403005995285009e-52,\n",
       " 5.602003996856722e-51,\n",
       " 3.614196127004265e-50,\n",
       " 2.258872579377702e-49,\n",
       " 1.369013684471321e-48,\n",
       " 8.053021673360767e-48,\n",
       " 4.601726670491928e-47,\n",
       " 2.5565148169398827e-46,\n",
       " 1.3818999010486381e-45,\n",
       " 7.273157373940103e-45,\n",
       " 3.72982429432823e-44,\n",
       " 1.8649121471641202e-43,\n",
       " 9.097132425190729e-43,\n",
       " 4.3319678215194674e-42,\n",
       " 2.0148687541950818e-41,\n",
       " 9.158494337250358e-41,\n",
       " 4.070441927666705e-40,\n",
       " 1.7697573598551434e-39,\n",
       " 7.530882382362151e-39,\n",
       " 3.137867659317582e-38,\n",
       " 1.2807623099256077e-37,\n",
       " 5.123049239702304e-37,\n",
       " 2.0090389175302227e-36,\n",
       " 7.727072759731522e-36,\n",
       " 2.915876513106323e-35,\n",
       " 1.07995426411344e-34,\n",
       " 3.927106414957849e-34,\n",
       " 1.4025380053421638e-33,\n",
       " 4.921185983656739e-33,\n",
       " 1.6969606840195078e-32,\n",
       " 5.752409098371566e-32,\n",
       " 1.917469699457066e-31,\n",
       " 6.2867858998591965e-31,\n",
       " 2.027995451567525e-30,\n",
       " 6.43808079862729e-30,\n",
       " 2.011900249570971e-29,\n",
       " 6.190462306372229e-29,\n",
       " 1.875897668597677e-28,\n",
       " 5.599694533127204e-28,\n",
       " 1.6469689803314918e-27,\n",
       " 4.773823131395523e-27,\n",
       " 1.363949466113139e-26,\n",
       " 3.8421111721495424e-26,\n",
       " 1.0672531033748233e-25,\n",
       " 2.9239811051366338e-25,\n",
       " 7.902651635504703e-25,\n",
       " 2.107373769467818e-24,\n",
       " 5.545720445968093e-24,\n",
       " 1.4404468690825912e-23,\n",
       " 3.6934535104682533e-23,\n",
       " 9.350515216375588e-23,\n",
       " 2.337628804093733e-22,\n",
       " 5.771922973070901e-22,\n",
       " 1.4077860909928442e-21,\n",
       " 3.392255640946944e-21,\n",
       " 8.076799145111779e-21,\n",
       " 1.9004233282615788e-20,\n",
       " 4.4195891354922436e-20,\n",
       " 1.015997502411951e-19,\n",
       " 2.3090852327544592e-19,\n",
       " 5.1889555792236645e-19,\n",
       " 1.1531012398274774e-18,\n",
       " 2.534288439181078e-18,\n",
       " 5.5093226938717536e-18,\n",
       " 1.1848005793273558e-17,\n",
       " 2.5208522964411954e-17,\n",
       " 5.3070574661920637e-17,\n",
       " 1.105636972123257e-16,\n",
       " 2.2796638600480265e-16,\n",
       " 4.652375224588165e-16,\n",
       " 9.398737827449969e-16,\n",
       " 1.879747565490104e-15,\n",
       " 3.722272406910983e-15,\n",
       " 7.298573346884137e-15,\n",
       " 1.4171987081329537e-14,\n",
       " 2.725382131024792e-14,\n",
       " 5.191204059094924e-14,\n",
       " 9.794724639802299e-14,\n",
       " 1.8307896522993e-13,\n",
       " 3.3903512079618124e-13,\n",
       " 6.220827904517014e-13,\n",
       " 1.1310596190030585e-12,\n",
       " 2.0379452594651114e-12,\n",
       " 3.639187963330329e-12,\n",
       " 6.441040643062211e-12,\n",
       " 1.1300071303618592e-11,\n",
       " 1.9652297919338662e-11,\n",
       " 3.388327227471773e-11,\n",
       " 5.792012354652739e-11,\n",
       " 9.816970092632068e-11,\n",
       " 1.6499109399380678e-10,\n",
       " 2.7498515665634214e-10,\n",
       " 4.545209200931244e-10,\n",
       " 7.45116262447824e-10,\n",
       " 1.2115711584516322e-09,\n",
       " 1.9541470297605123e-09,\n",
       " 3.126635247617228e-09,\n",
       " 4.962913091456224e-09,\n",
       " 7.815611167647478e-09,\n",
       " 1.2211892449448813e-08,\n",
       " 1.8933166588293672e-08,\n",
       " 2.9127948597372393e-08,\n",
       " 4.447015053034265e-08,\n",
       " 6.737901595505414e-08,\n",
       " 1.0132182850383727e-07,\n",
       " 1.5122660970722303e-07,\n",
       " 2.2403942178849157e-07,\n",
       " 3.294697379242626e-07,\n",
       " 4.809777195974403e-07,\n",
       " 6.97069158836893e-07,\n",
       " 1.0029772069596143e-06,\n",
       " 1.4328245813707287e-06,\n",
       " 2.0323752927243415e-06,\n",
       " 2.862500412288261e-06,\n",
       " 4.003497080123424e-06,\n",
       " 5.5604126112821054e-06,\n",
       " 7.669534636251241e-06,\n",
       " 1.0506211830481904e-05,\n",
       " 1.429416575575641e-05,\n",
       " 1.9316440210481754e-05,\n",
       " 2.592810766507824e-05,\n",
       " 3.457081022009864e-05,\n",
       " 4.578915260940215e-05,\n",
       " 6.024888501237792e-05,\n",
       " 7.875671243447078e-05,\n",
       " 0.00010228144472009539,\n",
       " 0.0001319760577033684,\n",
       " 0.00016920007397868038,\n",
       " 0.00021554149551421972,\n",
       " 0.00027283733609394066,\n",
       " 0.0003431916177282481,\n",
       " 0.00042898952216032806,\n",
       " 0.0005329062387084491,\n",
       " 0.0006579089366770914,\n",
       " 0.0008072502290516742,\n",
       " 0.0009844514988434625,\n",
       " 0.00119327454405265,\n",
       " 0.0014376801735573842,\n",
       " 0.0017217726629429923,\n",
       " 0.0020497293606465336,\n",
       " 0.0024257152197000344,\n",
       " 0.002853782611411451,\n",
       " 0.0033377574402479043,\n",
       " 0.00388111330261357,\n",
       " 0.00448683618799226,\n",
       " 0.005157282974704024,\n",
       " 0.00589403768537651,\n",
       " 0.006697770097019202,\n",
       " 0.00756810180454131,\n",
       " 0.008503485173640718,\n",
       " 0.009501100752671233,\n",
       " 0.010556778614079096,\n",
       " 0.011664948744839684,\n",
       " 0.012818624994326873,\n",
       " 0.014009426223309602,\n",
       " 0.015227637199250844,\n",
       " 0.016462310485674134,\n",
       " 0.017701409124382204,\n",
       " 0.01893198836832347,\n",
       " 0.02014041315779099,\n",
       " 0.021312606516181137,\n",
       " 0.02243432264861072,\n",
       " 0.02349143732839033,\n",
       " 0.02447024721707262,\n",
       " 0.02535776913686026,\n",
       " 0.026142030037999586,\n",
       " 0.02681233850051479,\n",
       " 0.027359529082159995,\n",
       " 0.027776171657014768,\n",
       " 0.028056739047490203,\n",
       " 0.028197727685921072,\n",
       " 0.028197727685921072,\n",
       " 0.02805744048349789,\n",
       " 0.02777964404306789,\n",
       " 0.027369107431595967,\n",
       " 0.02683245826626846,\n",
       " 0.026178008064649927,\n",
       " 0.025415541810347466,\n",
       " 0.024556079043812098,\n",
       " 0.023611614465202865,\n",
       " 0.02259484637818666,\n",
       " 0.021518901312554132,\n",
       " 0.020397062855499942,\n",
       " 0.019242512127832283,\n",
       " 0.01806808650500774,\n",
       " 0.01688606215421197,\n",
       " 0.015707964794615815,\n",
       " 0.014544411846865439,\n",
       " 0.013404987877295138,\n",
       " 0.01229815401586973,\n",
       " 0.011231190882069834,\n",
       " 0.0102101735291558,\n",
       " 0.009239976044487137,\n",
       " 0.008324302742779397,\n",
       " 0.007465742370206391,\n",
       " 0.006665841401970702,\n",
       " 0.005925192357305668,\n",
       " 0.005243533059562268,\n",
       " 0.004619852915914776,\n",
       " 0.004052502557819523,\n",
       " 0.0035393035439475313,\n",
       " 0.0030776552556070285,\n",
       " 0.002664636584940343,\n",
       " 0.0022971005042596786,\n",
       " 0.0019717600894928592,\n",
       " 0.0016852650337548084,\n",
       " 0.0014342681138333352,\n",
       " 0.0012154814524013055,\n",
       " 0.0010257227446424247,\n",
       " 0.0008619518862541853,\n",
       " 0.0007212986495851372,\n",
       " 0.0006010822079877102,\n",
       " 0.0004988234091183373,\n",
       " 0.000412250751337395,\n",
       " 0.00033930102990743484,\n",
       " 0.0002781155982846693,\n",
       " 0.00022703314145693204,\n",
       " 0.00018457978980241852,\n",
       " 0.00014945731967805194,\n",
       " 0.00012053009651453267,\n",
       " 9.681132250165337e-05,\n",
       " 7.744905800131947e-05,\n",
       " 6.171239681379418e-05,\n",
       " 4.897809270937454e-05,\n",
       " 3.871785984930169e-05,\n",
       " 3.0486503818348995e-05,\n",
       " 2.391098338694296e-05,\n",
       " 1.8680455771043276e-05,\n",
       " 1.4537319666183982e-05,\n",
       " 1.126924005130723e-05,\n",
       " 8.70211586973359e-06,\n",
       " 6.693935284408348e-06,\n",
       " 5.129452325219755e-06,\n",
       " 3.915612461999189e-06,\n",
       " 2.9776520623569183e-06,\n",
       " 2.2557970169369606e-06,\n",
       " 1.7024883146695234e-06,\n",
       " 1.280066402006895e-06,\n",
       " 9.588512374586528e-07,\n",
       " 7.155606249690357e-07,\n",
       " 5.32015334549395e-07,\n",
       " 3.94085432999686e-07,\n",
       " 2.9083795793326146e-07,\n",
       " 2.1385143965677972e-07,\n",
       " 1.5666772136032014e-07,\n",
       " 1.1435600099289615e-07,\n",
       " 8.316800072212373e-08,\n",
       " 6.026666718994318e-08,\n",
       " 4.351383912631986e-08,\n",
       " 3.1304920234762403e-08,\n",
       " 2.2440803035671313e-08,\n",
       " 1.602914502548055e-08,\n",
       " 1.1408644146246653e-08,\n",
       " 8.091236983153715e-09,\n",
       " 5.718188680674544e-09,\n",
       " 4.026893437094697e-09,\n",
       " 2.825890131294731e-09,\n",
       " 1.976146944960776e-09,\n",
       " 1.3771058849902165e-09,\n",
       " 9.563235312432937e-10,\n",
       " 6.618155925559351e-10,\n",
       " 4.564245465903288e-10,\n",
       " 3.1369384645379163e-10,\n",
       " 2.1485879894095598e-10,\n",
       " 1.466612962054538e-10,\n",
       " 9.976958925538458e-11,\n",
       " 6.764039949519822e-11,\n",
       " 4.5702972631883093e-11,\n",
       " 3.077641254671984e-11,\n",
       " 2.065531043404529e-11,\n",
       " 1.381626115989589e-11,\n",
       " 9.210840773265014e-12,\n",
       " 6.120159982234905e-12,\n",
       " 4.0530860809504895e-12,\n",
       " 2.675304343861481e-12,\n",
       " 1.7600686472769814e-12,\n",
       " 1.1541433752638632e-12,\n",
       " 7.543420753358883e-13,\n",
       " 4.914280621081094e-13,\n",
       " 3.191091312389153e-13,\n",
       " 2.065431270154959e-13,\n",
       " 1.332536303326353e-13,\n",
       " 8.569365294699383e-14,\n",
       " 5.4931828812191995e-14,\n",
       " 3.510021010363281e-14,\n",
       " 2.2356821722060527e-14,\n",
       " 1.4194807442575143e-14,\n",
       " 8.98405534340323e-15,\n",
       " 5.668173718234554e-15,\n",
       " 3.564889130965947e-15,\n",
       " 2.2350402075018472e-15,\n",
       " 1.3969001296887895e-15,\n",
       " 8.703427599304708e-16,\n",
       " 5.405855651742633e-16,\n",
       " 3.347279041327468e-16,\n",
       " 2.066221630448678e-16,\n",
       " 1.2715210033528686e-16,\n",
       " 7.800742351858793e-17,\n",
       " 4.7710962396694845e-17,\n",
       " 2.909205024188413e-17,\n",
       " 1.7685136925160002e-17,\n",
       " 1.071826480312636e-17,\n",
       " 6.47629293240289e-18,\n",
       " 3.901381284580643e-18,\n",
       " 2.3431719426900458e-18,\n",
       " 1.4030969716710962e-18,\n",
       " 8.376698338335192e-19,\n",
       " 4.986129963294742e-19,\n",
       " 2.9591275746555147e-19,\n",
       " 1.7509630619264326e-19,\n",
       " 1.0330165557087611e-19,\n",
       " 6.076567974756307e-20,\n",
       " 3.563969486661399e-20,\n",
       " 2.0841926822581392e-20,\n",
       " 1.2152727010249967e-20,\n",
       " 7.065538959446744e-21,\n",
       " 4.095964614172681e-21,\n",
       " 2.367609603567723e-21,\n",
       " 1.3646164862065312e-21,\n",
       " 7.842623483945543e-22,\n",
       " 4.494340105412969e-22,\n",
       " 2.5681943459497436e-22,\n",
       " 1.4633586016808033e-22,\n",
       " 8.314537509551023e-23,\n",
       " 4.7107861243917525e-23,\n",
       " 2.6614610872264633e-23,\n",
       " 1.4994146970289114e-23,\n",
       " 8.423678073198275e-24,\n",
       " 4.7191473799427515e-24,\n",
       " 2.6363951843263148e-24,\n",
       " 1.468743835278483e-24,\n",
       " 8.159687973771614e-25,\n",
       " 4.5206027555499285e-25,\n",
       " 2.4975705831779384e-25,\n",
       " 1.3760719466547402e-25,\n",
       " 7.560834871727452e-26,\n",
       " 4.1429232173857286e-26,\n",
       " 2.2638924685166506e-26,\n",
       " 1.2337288656762973e-26,\n",
       " 6.705048183022761e-27,\n",
       " 3.634172456924844e-27,\n",
       " 1.9644175442832914e-27,\n",
       " 1.0589851990742118e-27,\n",
       " 5.693468812229008e-28,\n",
       " 3.0527982907386477e-28,\n",
       " 1.6325124549409365e-28,\n",
       " 8.706733093017013e-29,\n",
       " 4.6312410069247384e-29,\n",
       " 2.456891780860753e-29,\n",
       " 1.2999427411966924e-29,\n",
       " 6.859856154070888e-30,\n",
       " 3.610450607406588e-30,\n",
       " 1.8952496626804913e-30,\n",
       " 9.922773103038414e-31,\n",
       " 5.18160475354502e-31,\n",
       " 2.6987524758041623e-31,\n",
       " 1.4019493380804693e-31,\n",
       " 7.263986207669667e-32,\n",
       " 3.753998040140411e-32,\n",
       " 1.935050536154907e-32,\n",
       " 9.948845944235882e-33,\n",
       " 5.101972279096641e-33,\n",
       " 2.6097044905861496e-33,\n",
       " 1.3314818829522897e-33,\n",
       " 6.775989226223106e-34,\n",
       " 3.4395884397053382e-34,\n",
       " 1.7415637669399756e-34,\n",
       " 8.7957766007056e-35,\n",
       " 4.431121713201429e-35,\n",
       " 2.2266943282421467e-35,\n",
       " 1.1161375078912081e-35,\n",
       " 5.580687539455078e-36,\n",
       " 2.783385306460299e-36,\n",
       " 1.384768809184812e-36,\n",
       " 6.8723017825525665e-37,\n",
       " 3.402129595323322e-37,\n",
       " 1.6800639976905355e-37,\n",
       " 8.276177328525862e-38,\n",
       " 4.066917606154467e-38,\n",
       " 1.993587061839472e-38,\n",
       " 9.748591989437211e-39,\n",
       " 4.7554107265572974e-39,\n",
       " 2.3140684800760424e-39,\n",
       " 1.123334213629167e-39,\n",
       " 5.439875126533164e-40,\n",
       " 2.6279589983254422e-40,\n",
       " 1.2664862642530757e-40,\n",
       " 6.088876270447536e-41,\n",
       " 2.92032435033555e-41,\n",
       " 1.3972843781510287e-41,\n",
       " 6.66961517016823e-42,\n",
       " 3.176007223890214e-42,\n",
       " 1.508792030351285e-42,\n",
       " 7.150673129628399e-43,\n",
       " 3.38093292181131e-43,\n",
       " 1.5947796800988525e-43,\n",
       " 7.504845553409799e-44,\n",
       " 3.523401668266278e-44,\n",
       " 1.6503052310381857e-44,\n",
       " 7.711706687093475e-45,\n",
       " 3.5952012527260627e-45,\n",
       " 1.6721866291750078e-45,\n",
       " 7.759566724706857e-46,\n",
       " 3.592392002179854e-46,\n",
       " 1.6593034652095087e-46,\n",
       " 7.646559747507826e-47,\n",
       " 3.5156596540288203e-47,\n",
       " 1.6126879146918197e-47,\n",
       " 7.380722721700399e-48,\n",
       " 3.370193023608695e-48,\n",
       " 1.535395454946758e-48,\n",
       " 6.979070249755369e-49,\n",
       " 3.165111224379115e-49,\n",
       " 1.4321770246061989e-49,\n",
       " 6.465810494838298e-50,\n",
       " 2.9125272499263583e-50,\n",
       " 1.3090010112022434e-50,\n",
       " 5.869959691491384e-51,\n",
       " 2.626380175164892e-51,\n",
       " 1.1724911496265734e-51,\n",
       " 5.2226777266226235e-52,\n",
       " 2.3211901007206576e-52,\n",
       " 1.0293525945549603e-52,\n",
       " 4.554657498028225e-53,\n",
       " 2.01088631259559e-53,\n",
       " 8.85853001143952e-54,\n",
       " 3.8938593456856804e-54,\n",
       " 1.7078330463540468e-54,\n",
       " 7.474105235682638e-55,\n",
       " 3.2638014129616104e-55,\n",
       " 1.4221356919228178e-55,\n",
       " 6.183198660535997e-56,\n",
       " 2.6825156878676145e-56,\n",
       " 1.161262202540069e-56,\n",
       " 5.016251414860215e-57,\n",
       " 2.162177333991325e-57,\n",
       " 9.299687458025958e-58,\n",
       " 3.991282170825946e-58,\n",
       " 1.7093285528165642e-58,\n",
       " 7.304822875284192e-59,\n",
       " 3.115063059822284e-59,\n",
       " 1.325558748860116e-59,\n",
       " 5.628699570534856e-60,\n",
       " 2.3850421909050725e-60,\n",
       " 1.0084744993250057e-60,\n",
       " 4.255166663819678e-61,\n",
       " 1.791649121608229e-61,\n",
       " 7.527937485746262e-62,\n",
       " 3.156367918551553e-62,\n",
       " 1.320656032867214e-62,\n",
       " 5.514221431594908e-63,\n",
       " 2.2975922631655604e-63,\n",
       " 9.553398183639935e-64,\n",
       " 3.964065636364586e-64,\n",
       " 1.6414350461125763e-64,\n",
       " 6.7827894467484245e-65,\n",
       " 2.7970265759793318e-65,\n",
       " 1.151039743201559e-65,\n",
       " 4.727062600416125e-66,\n",
       " 1.937320737875219e-66,\n",
       " 7.923602199902096e-67,\n",
       " 3.234123346898364e-67,\n",
       " 1.3173618520974626e-67,\n",
       " 5.355129480069854e-68,\n",
       " 2.172466320515387e-68,\n",
       " 8.795410204513059e-69,\n",
       " 3.5537010927326644e-69,\n",
       " 1.43294398900521e-69,\n",
       " 5.7663742012295786e-70,\n",
       " 2.3158129322208105e-70,\n",
       " 9.281815359600512e-71]"
      ]
     },
     "execution_count": 19,
     "metadata": {},
     "output_type": "execute_result"
    }
   ],
   "source": [
    "pmf_list"
   ]
  },
  {
   "cell_type": "code",
   "execution_count": 20,
   "id": "39c23944",
   "metadata": {},
   "outputs": [
    {
     "data": {
      "text/plain": [
       "[<matplotlib.lines.Line2D at 0x21010962220>]"
      ]
     },
     "execution_count": 20,
     "metadata": {},
     "output_type": "execute_result"
    },
    {
     "data": {
      "image/png": "[encoded data removed]",
      "text/plain": [
       "<Figure size 432x288 with 1 Axes>"
      ]
     },
     "metadata": {
      "needs_background": "light"
     },
     "output_type": "display_data"
    }
   ],
   "source": [
    "import matplotlib.pyplot as plt\n",
    "plt.plot(pmf_list)"
   ]
  },
  {
   "cell_type": "markdown",
   "id": "21b635d9",
   "metadata": {},
   "source": [
    "__5.__ Numa determinada amostra com N=6 mil cintigrafias renais, determinou-se que o valor\n",
    "mediano da dose efetiva era de 4,2mSv, com um desvio padrão de 1,3 mSv."
   ]
  },
  {
   "cell_type": "code",
   "execution_count": 21,
   "id": "d3d73873",
   "metadata": {},
   "outputs": [],
   "source": [
    "N = 6000;   valor_mediano = 4.2;   desvio_padrao = 1.3"
   ]
  },
  {
   "cell_type": "markdown",
   "id": "3efed8ed",
   "metadata": {},
   "source": [
    "__a.__ Em que intervalo de valores em torno do valor mediano encontramos 68% dos casos?"
   ]
  },
  {
   "cell_type": "code",
   "execution_count": 22,
   "id": "244a46d8",
   "metadata": {},
   "outputs": [
    {
     "name": "stdout",
     "output_type": "stream",
     "text": [
      "z1 = -0.9944578832097528\n",
      "X1 =  2.9072047518273214\n",
      "dX1 = -1.2927952481726788\n"
     ]
    }
   ],
   "source": [
    "# 0.68 -> 0.34 para cada lado -> entre P(z1)=0.16 e P(z2)=0.84 -> Encontrar os Zs\n",
    "from statistics import NormalDist\n",
    "\n",
    "print('z1 =', NormalDist().inv_cdf(0.16))\n",
    "print('X1 = ', -0.9944578832097528*desvio_padrao + valor_mediano)\n",
    "print('dX1 =',2.9072047518273214-valor_mediano)"
   ]
  },
  {
   "cell_type": "code",
   "execution_count": 23,
   "id": "6d8fc4ca",
   "metadata": {},
   "outputs": [
    {
     "name": "stdout",
     "output_type": "stream",
     "text": [
      "z2 = 0.9944578832097528\n",
      "X2 = 5.492795248172679\n",
      "dX2 = 1.2927952481726788\n"
     ]
    }
   ],
   "source": [
    "print('z2 =', NormalDist().inv_cdf(0.84))\n",
    "print('X2 =', 0.9944578832097528*desvio_padrao + valor_mediano)\n",
    "print('dX2 =',5.492795248172679-4.2)"
   ]
  },
  {
   "cell_type": "code",
   "execution_count": 24,
   "id": "1140eea3",
   "metadata": {},
   "outputs": [
    {
     "data": {
      "text/plain": [
       "2.5855904963453575"
      ]
     },
     "execution_count": 24,
     "metadata": {},
     "output_type": "execute_result"
    }
   ],
   "source": [
    "1.2927952481726788+1.2927952481726788"
   ]
  },
  {
   "cell_type": "markdown",
   "id": "17462839",
   "metadata": {},
   "source": [
    "__b.__ E 95%?"
   ]
  },
  {
   "cell_type": "code",
   "execution_count": 25,
   "id": "49b802d7",
   "metadata": {},
   "outputs": [
    {
     "data": {
      "text/plain": [
       "-2.5479531799020703"
      ]
     },
     "execution_count": 25,
     "metadata": {},
     "output_type": "execute_result"
    }
   ],
   "source": [
    "x1 = (NormalDist().inv_cdf(0.025)*desvio_padrao + valor_mediano)-valor_mediano; x1"
   ]
  },
  {
   "cell_type": "code",
   "execution_count": 26,
   "id": "b5e2771f",
   "metadata": {},
   "outputs": [
    {
     "data": {
      "text/plain": [
       "2.54795317990207"
      ]
     },
     "execution_count": 26,
     "metadata": {},
     "output_type": "execute_result"
    }
   ],
   "source": [
    "x2 = (NormalDist().inv_cdf(0.975)*desvio_padrao + valor_mediano)-valor_mediano; x2"
   ]
  },
  {
   "cell_type": "code",
   "execution_count": 27,
   "id": "a914f643",
   "metadata": {},
   "outputs": [
    {
     "data": {
      "text/plain": [
       "5.09590635980414"
      ]
     },
     "execution_count": 27,
     "metadata": {},
     "output_type": "execute_result"
    }
   ],
   "source": [
    "x2-x1"
   ]
  },
  {
   "cell_type": "markdown",
   "id": "52eca9ad",
   "metadata": {},
   "source": [
    "__6.__ Foi dada a 50 pacientes uma nova vacina contra covid-19, com probabilidade __para cada\n",
    "pessoa__ de 50% de ser a vacina e 50% de ser placebo. Em seguida, foram escolhidas 15\n",
    "pessoas para se realizarem testes."
   ]
  },
  {
   "cell_type": "code",
   "execution_count": 28,
   "id": "dbf7fdef",
   "metadata": {},
   "outputs": [],
   "source": [
    "n = 50;   p = 0.5   "
   ]
  },
  {
   "cell_type": "markdown",
   "id": "c5a3649d",
   "metadata": {},
   "source": [
    "__a.__ Qual a probabilidade de 6 pessoas das 15 terem recebido a vacina?"
   ]
  },
  {
   "cell_type": "code",
   "execution_count": 29,
   "id": "451d84a0",
   "metadata": {},
   "outputs": [
    {
     "data": {
      "text/plain": [
       "(array(25.), array(12.5))"
      ]
     },
     "execution_count": 29,
     "metadata": {},
     "output_type": "execute_result"
    }
   ],
   "source": [
    "from scipy.stats import binom\n",
    "binom.stats(n, p) #mean and variance"
   ]
  },
  {
   "cell_type": "code",
   "execution_count": 30,
   "id": "f70356f0",
   "metadata": {},
   "outputs": [
    {
     "data": {
      "text/plain": [
       "0.001999138255044388"
      ]
     },
     "execution_count": 30,
     "metadata": {},
     "output_type": "execute_result"
    }
   ],
   "source": [
    "k = 15\n",
    "binom.pmf(k, n, p)"
   ]
  },
  {
   "cell_type": "markdown",
   "id": "fd2e64b9",
   "metadata": {},
   "source": [
    "__b.__ Qual a probabilidade de 3 ou mais pessoas ter recebido a vacina?"
   ]
  },
  {
   "cell_type": "code",
   "execution_count": 31,
   "id": "550cb6e2",
   "metadata": {},
   "outputs": [
    {
     "name": "stdout",
     "output_type": "stream",
     "text": [
      "8.881784197001252e-16\n",
      "4.4408920985006104e-14\n",
      "1.0880185641326552e-12\n"
     ]
    }
   ],
   "source": [
    "sum0a2 = 0\n",
    "for k in range(3):\n",
    "    sum0a2 = sum([sum0a2,binom.pmf(k, n, p)])\n",
    "    print(binom.pmf(k, n, p))"
   ]
  },
  {
   "cell_type": "code",
   "execution_count": 32,
   "id": "d4d6e10f",
   "metadata": {},
   "outputs": [
    {
     "data": {
      "text/plain": [
       "0.9999999999988667"
      ]
     },
     "execution_count": 32,
     "metadata": {},
     "output_type": "execute_result"
    }
   ],
   "source": [
    "1-sum0a2"
   ]
  },
  {
   "cell_type": "markdown",
   "id": "f9401260",
   "metadata": {},
   "source": [
    "__c.__ Se em vez de 50 pacientes, tivessem sido 900, e tivéssemos escolhido 600 para estudo,\n",
    "que distribuição proporia para explicar os dados? Usando esta distribuição determine\n",
    "a probabilidade de 275 pessoas terem recebido a vacina. Qual é o desvio padrão?"
   ]
  },
  {
   "cell_type": "code",
   "execution_count": 33,
   "id": "395c36f0",
   "metadata": {},
   "outputs": [],
   "source": [
    "n = 900;  k = 600"
   ]
  },
  {
   "cell_type": "markdown",
   "id": "eb7a53a1",
   "metadata": {},
   "source": [
    "__7.__ Num determinado país com 10 milhões de habitantes, a taxa incidência média de uma determinada doença é de 2,3%/ano."
   ]
  },
  {
   "cell_type": "markdown",
   "id": "0a4cf5e6",
   "metadata": {},
   "source": [
    "__a.__ calcule a probabilidade de 4200 pessoas terem contraído a doença numa semana."
   ]
  },
  {
   "cell_type": "markdown",
   "id": "134a6262",
   "metadata": {},
   "source": [
    "##### Poisson: $$ Pr(X=k) = \\frac{\\lambda^k e^{-\\lambda}}{k!} $$"
   ]
  },
  {
   "cell_type": "code",
   "execution_count": 34,
   "id": "420e4652",
   "metadata": {},
   "outputs": [
    {
     "data": {
      "text/plain": [
       "230000.0"
      ]
     },
     "execution_count": 34,
     "metadata": {},
     "output_type": "execute_result"
    }
   ],
   "source": [
    "lambda_ano = 10000000*0.023; lambda_ano"
   ]
  },
  {
   "cell_type": "code",
   "execution_count": 35,
   "id": "275a8236",
   "metadata": {},
   "outputs": [
    {
     "data": {
      "text/plain": [
       "4407.939767282683"
      ]
     },
     "execution_count": 35,
     "metadata": {},
     "output_type": "execute_result"
    }
   ],
   "source": [
    "semanas_por_ano = 365.25/7; lambda_semana = lambda_ano/semanas_por_ano; lambda_semana"
   ]
  },
  {
   "cell_type": "code",
   "execution_count": 36,
   "id": "c48ee740",
   "metadata": {},
   "outputs": [
    {
     "data": {
      "text/plain": [
       "4.215990470277036e-05"
      ]
     },
     "execution_count": 36,
     "metadata": {},
     "output_type": "execute_result"
    }
   ],
   "source": [
    "from scipy.stats import poisson\n",
    "poisson.pmf(4200, lambda_semana)"
   ]
  },
  {
   "cell_type": "markdown",
   "id": "e44a1c10",
   "metadata": {},
   "source": [
    "__b.__ <br>\n",
    "__i.__ Qual a probabilidade de até 4200 pessoas serem infectadas numa semana (ou seja de 0 a 4200)? <br>__ii__ E de serem 4500 pessoas ou mais?"
   ]
  },
  {
   "cell_type": "code",
   "execution_count": 37,
   "id": "60d09c82",
   "metadata": {},
   "outputs": [
    {
     "name": "stdout",
     "output_type": "stream",
     "text": [
      "i. 0.0007828301136447082\n"
     ]
    }
   ],
   "source": [
    "soma = 0\n",
    "for i in range(4200):\n",
    "    soma = poisson.pmf(i, lambda_semana) + soma\n",
    "print('i.', soma)"
   ]
  },
  {
   "cell_type": "code",
   "execution_count": 38,
   "id": "f092a4df",
   "metadata": {},
   "outputs": [
    {
     "data": {
      "text/plain": [
       "0.0022891078994610363"
      ]
     },
     "execution_count": 38,
     "metadata": {},
     "output_type": "execute_result"
    }
   ],
   "source": [
    "n = 4500\n",
    "poisson.pmf(n, lambda_semana)"
   ]
  },
  {
   "cell_type": "code",
   "execution_count": 39,
   "id": "6c5433c8",
   "metadata": {},
   "outputs": [
    {
     "name": "stdout",
     "output_type": "stream",
     "text": [
      "ii. 0.0842797658363501\n"
     ]
    }
   ],
   "source": [
    "soma = 0\n",
    "for i in range(n):\n",
    "    soma = poisson.pmf(i, lambda_semana) + soma\n",
    "print('ii.', 1-soma)"
   ]
  },
  {
   "cell_type": "markdown",
   "id": "3a310c66",
   "metadata": {},
   "source": [
    "__8.__ O intervalo de confiança a 95% das taxas de sobrevivência a 5 anos de 40 mil pacientes tratados com radioterapia para um determinado cancro estava entre os 91 e os 99%."
   ]
  },
  {
   "cell_type": "markdown",
   "id": "0af1d96a",
   "metadata": {},
   "source": [
    "__a.__ Determine o valor médio da taxa de sobrevivência da amostra."
   ]
  },
  {
   "cell_type": "markdown",
   "id": "47189765",
   "metadata": {},
   "source": [
    "z = (X – μ) / σ"
   ]
  },
  {
   "cell_type": "markdown",
   "id": "88a3a976",
   "metadata": {},
   "source": [
    "CI = μ +- z(σ/sqrt(n))\n",
    "CI intervalo de confiança;   μ = média da amostra;   z = valor do nível de confiança\n",
    "σ = desvio padrão;   n = tamanho da amostra"
   ]
  },
  {
   "cell_type": "code",
   "execution_count": 40,
   "id": "c322506e",
   "metadata": {},
   "outputs": [
    {
     "data": {
      "text/plain": [
       "1.6448536269514722"
      ]
     },
     "execution_count": 40,
     "metadata": {},
     "output_type": "execute_result"
    }
   ],
   "source": [
    "import scipy.stats as st\n",
    "st.norm.ppf(.95)"
   ]
  },
  {
   "cell_type": "code",
   "execution_count": 41,
   "id": "3996b971",
   "metadata": {},
   "outputs": [
    {
     "data": {
      "text/plain": [
       "38000.0"
      ]
     },
     "execution_count": 41,
     "metadata": {},
     "output_type": "execute_result"
    }
   ],
   "source": [
    "mu = 40000*0.95; mu"
   ]
  },
  {
   "cell_type": "markdown",
   "id": "86d36ff8",
   "metadata": {},
   "source": [
    "__b.__ Determine o seu desvio padrão"
   ]
  },
  {
   "cell_type": "code",
   "execution_count": 42,
   "id": "f2068b41",
   "metadata": {},
   "outputs": [
    {
     "name": "stdout",
     "output_type": "stream",
     "text": [
      "1.3407550336902165 2.3263478740408408\n"
     ]
    }
   ],
   "source": [
    "print(st.norm.ppf(.91), st.norm.ppf(.99))"
   ]
  },
  {
   "cell_type": "code",
   "execution_count": null,
   "id": "44c08d69",
   "metadata": {},
   "outputs": [],
   "source": [
    "x médio e margem de erro: distancia da média"
   ]
  }
 ],
 "metadata": {
  "kernelspec": {
   "display_name": "Python 3 (ipykernel)",
   "language": "python",
   "name": "python3"
  },
  "language_info": {
   "codemirror_mode": {
    "name": "ipython",
    "version": 3
   },
   "file_extension": ".py",
   "mimetype": "text/x-python",
   "name": "python",
   "nbconvert_exporter": "python",
   "pygments_lexer": "ipython3",
   "version": "3.9.7"
  }
 },
 "nbformat": 4,
 "nbformat_minor": 5
}
