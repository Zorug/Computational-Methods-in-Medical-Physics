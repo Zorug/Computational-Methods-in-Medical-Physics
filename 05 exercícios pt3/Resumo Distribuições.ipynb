{
 "cells": [
  {
   "cell_type": "markdown",
   "id": "5f18947f",
   "metadata": {},
   "source": [
    "# 3. Distribuições binomial, de Poisson e de Gauss"
   ]
  },
  {
   "cell_type": "markdown",
   "id": "122234fb",
   "metadata": {},
   "source": [
    "## Poisson Distribution"
   ]
  },
  {
   "cell_type": "markdown",
   "id": "ba651a3a",
   "metadata": {},
   "source": [
    "- Discrete distribution\n",
    "- Describes the number of events ocurring in a __fixed time interval or region of opportunity__.\n",
    "- Requires only one parametrer, __lambda__ (expected number of events). -> Frequência esperada\n",
    "- Bounded by 0 and infinity."
   ]
  },
  {
   "cell_type": "markdown",
   "id": "71eb8f4c",
   "metadata": {},
   "source": [
    "Assumptions:\n",
    "- The __rate__ at which event occur is __constant__\n",
    "- The occurence of one event dows not affect the occurrence of a subsequent event (ie events are __indepenent__)"
   ]
  },
  {
   "cell_type": "markdown",
   "id": "3470a5a3",
   "metadata": {},
   "source": [
    "Discrete probability distribution that expresses the probability of a given number of events occurring in a fixed interval of time or space if these events occur with a known constant mean rate and independently of the time since the last event.\n",
    "The Poisson distribution can also be used for the number of events in other specified interval types such as distance, area or volume.\n",
    "\n",
    "For instance, a call center receives an __average of 180 calls per hour__, 24 hours a day. The __calls are independent__; _receiving one does not change the probability of when the next one will arrive_. \n",
    "The number of calls received during any __minute__ has a Poisson probability distribution: the most likely numbers are 2 and 3 but 1 and 4 are also likely and there is a small probability of it being as low as zero and a very small probability it could be 10. \n",
    "- Another example is the __number of decay events__ that occur from a radioactive source during a __defined observation period__. "
   ]
  },
  {
   "cell_type": "markdown",
   "id": "134b164b",
   "metadata": {},
   "source": [
    "Example\n",
    "\n",
    "The Poisson distribution may be useful to model events such as:\n",
    "\n",
    "- the number of meteorites greater than 1 meter diameter that strike Earth in a year;\n",
    "- the number of patients arriving in an emergency room between 10 and 11 pm;\n",
    "- the number of laser photons hitting a detector in a particular time interval."
   ]
  },
  {
   "cell_type": "markdown",
   "id": "272ae312",
   "metadata": {},
   "source": [
    "__Assumptions and validity__\n",
    "\n",
    "The Poisson distribution is an appropriate model if the following assumptions are true:\n",
    "\n",
    "- k is the number of times an event occurs in an interval and k can take values 0, 1, 2, ….\n",
    "- The occurrence of one event does not affect the probability that a second event will occur. That is, events occur independently.\n",
    "- The average rate at which events occur is independent of any occurrences. For simplicity, this is usually assumed to be constant, but may in practice vary with time.\n",
    "- __Two events cannot occur at exactly the same instant__; instead, at each very small sub-interval, either exactly one event occurs, or no event occurs.\n",
    "\n",
    "If these conditions are true, then k is a Poisson random variable, and the distribution of k is a Poisson distribution.\n",
    "\n",
    "The Poisson distribution is also the limit of a binomial distribution, for which the probability of success for each trial equals λ divided by the number of trials, as the number of trials approaches infinity (see Related distributions). "
   ]
  },
  {
   "cell_type": "markdown",
   "id": "0be3d8e1",
   "metadata": {},
   "source": [
    "### PMF\n",
    "$$ Pr(X=k) = \\frac{\\lambda^k e^{-\\lambda}}{k!} $$"
   ]
  },
  {
   "cell_type": "markdown",
   "id": "8e869a40",
   "metadata": {},
   "source": [
    "## Gaussian Distribution"
   ]
  },
  {
   "cell_type": "markdown",
   "id": "d18ee298",
   "metadata": {},
   "source": [
    "Normal distributions are important in statistics and are often used in the natural and social sciences to represent real-valued random variables whose distributions are not known. Their importance is partly due to the __central limit theorem__. It states that, under some conditions, the average of many samples (observations) of a random variable with finite mean and variance is itself a random variable — whose distribution converges to a normal distribution as the number of samples increases. Therefore, physical quantities that are expected to be the sum of many independent processes, such as measurement errors, often have distributions that are nearly normal."
   ]
  },
  {
   "cell_type": "markdown",
   "id": "3b095983",
   "metadata": {},
   "source": [
    "Moreover, Gaussian distributions have some unique properties that are valuable in analytic studies. For instance, any linear combination of a fixed collection of normal deviates is a normal deviate. Many results and methods, such as propagation of uncertainty and least squares parameter fitting, can be derived analytically in explicit form when the relevant variables are normally distributed."
   ]
  },
  {
   "cell_type": "markdown",
   "id": "89707153",
   "metadata": {},
   "source": [
    "A normal distribution is sometimes informally called a bell curve.However, many other distributions are bell-shaped (such as the Cauchy, Student's t, and logistic distributions)."
   ]
  },
  {
   "cell_type": "markdown",
   "id": "e1547ac7",
   "metadata": {},
   "source": [
    "The univariate probability distribution is generalized for vectors in the multivariate normal distribution and for matrices in the matrix normal distribution. "
   ]
  },
  {
   "cell_type": "markdown",
   "id": "919cc60a",
   "metadata": {},
   "source": [
    "$$f(x) = \\frac{1}{\\sigma\\sqrt{2\\pi}}e^{-\\frac{1}{2}(\\frac{x-\\mu}{\\sigma})^{2}}$$"
   ]
  },
  {
   "cell_type": "markdown",
   "id": "0648ca39",
   "metadata": {},
   "source": [
    "CDF: $$ f(x)=\\frac{1}{2}[1 + erf(\\frac{x-\\mu}{\\sigma\\sqrt{2}})] $$"
   ]
  },
  {
   "cell_type": "markdown",
   "id": "4bbe3382",
   "metadata": {},
   "source": [
    "## Binomial - Yes or No"
   ]
  },
  {
   "cell_type": "raw",
   "id": "e948434e",
   "metadata": {},
   "source": [
    "from scipy.stats import binom\n",
    "binom.pmf(k, n, p)\n",
    "p = probabilidade de sucesso\n",
    "n = número de tentativas\n",
    "k = probabilidade de k sucessos"
   ]
  },
  {
   "cell_type": "markdown",
   "id": "76b382f3",
   "metadata": {},
   "source": [
    "PDF: $$ Pr(X=k)   = {n \\choose k} p^k (1-p)^{n-k} $$\n",
    "onde: $$  {n \\choose k} = \\frac{n!}{k!(n-k)!} $$"
   ]
  },
  {
   "cell_type": "raw",
   "id": "6cd34a91",
   "metadata": {},
   "source": [
    "binom.cdf(x, n, p)"
   ]
  },
  {
   "cell_type": "markdown",
   "id": "1856f18c",
   "metadata": {},
   "source": [
    "CDF: $$\\sum\\limits _{i=0} ^{k}{n \\choose i}p^iq^{1-i}$$"
   ]
  },
  {
   "cell_type": "markdown",
   "id": "afc22539",
   "metadata": {},
   "source": [
    "média: np"
   ]
  },
  {
   "cell_type": "markdown",
   "id": "72c841b1",
   "metadata": {},
   "source": [
    "## Poisson"
   ]
  },
  {
   "cell_type": "raw",
   "id": "22da58b6",
   "metadata": {},
   "source": [
    "from scipy.stats import poisson\n",
    "poisson.pmf(x, l)"
   ]
  },
  {
   "cell_type": "markdown",
   "id": "cbb0a759",
   "metadata": {},
   "source": [
    "### PMF\n",
    "$$ Pr(X=k) = \\frac{\\lambda^k e^{-\\lambda}}{k!} $$"
   ]
  },
  {
   "cell_type": "raw",
   "id": "7923b131",
   "metadata": {},
   "source": [
    "poisson.cdf(x, l)"
   ]
  },
  {
   "cell_type": "markdown",
   "id": "390a7e01",
   "metadata": {},
   "source": [
    "### __CDF:__ $$\\sum\\limits _{i=0} ^{k} \\frac{\\lambda^ie^{-\\lambda}}{i!}$$"
   ]
  },
  {
   "cell_type": "markdown",
   "id": "14d81052",
   "metadata": {},
   "source": [
    "média: lambda"
   ]
  },
  {
   "cell_type": "markdown",
   "id": "547b6300",
   "metadata": {},
   "source": [
    "var: lambda"
   ]
  },
  {
   "cell_type": "markdown",
   "id": "46b79146",
   "metadata": {},
   "source": [
    "## Normal"
   ]
  },
  {
   "cell_type": "raw",
   "id": "3bdf0a17",
   "metadata": {},
   "source": [
    "from scipy.stats import norm\n",
    "norm.pdf(x,loc=mean,scale=sigma)\n",
    "norm.cdf(x,loc=mean,scale=sigma)"
   ]
  },
  {
   "cell_type": "markdown",
   "id": "7ce42e80",
   "metadata": {},
   "source": [
    "Distribuição (Probability Mass Function): $ f(x)=\\frac{1}{\\sigma\\sqrt{2\\pi}}e^{-\\frac{1}{2}(\\frac{x-\\mu}{\\sigma})^{2}}$"
   ]
  },
  {
   "cell_type": "markdown",
   "id": "103a19e4",
   "metadata": {},
   "source": [
    "Cumulativa (Cumulative Distribution Function): $ f(x)=\\frac{1}{2}[1 + erf(\\frac{x-\\mu}{\\sigma\\sqrt{2}})] $"
   ]
  },
  {
   "cell_type": "markdown",
   "id": "69278a9c",
   "metadata": {},
   "source": [
    "Média, Mediana e Moda: $\\mu$"
   ]
  },
  {
   "cell_type": "markdown",
   "id": "ce2c5262",
   "metadata": {},
   "source": [
    "Variância: $\\sigma^2$"
   ]
  },
  {
   "cell_type": "markdown",
   "id": "44ea5f66",
   "metadata": {},
   "source": [
    "Desvio Padrão: $\\sigma$"
   ]
  },
  {
   "cell_type": "code",
   "execution_count": null,
   "id": "145df2be",
   "metadata": {},
   "outputs": [],
   "source": []
  },
  {
   "cell_type": "code",
   "execution_count": 7,
   "id": "1f759d6b",
   "metadata": {},
   "outputs": [
    {
     "data": {
      "text/plain": [
       "1.6448536269514722"
      ]
     },
     "execution_count": 7,
     "metadata": {},
     "output_type": "execute_result"
    }
   ],
   "source": [
    "import scipy.stats as st\n",
    "st.norm.ppf(.95)"
   ]
  },
  {
   "cell_type": "code",
   "execution_count": 8,
   "id": "05c1d34c",
   "metadata": {},
   "outputs": [
    {
     "data": {
      "text/plain": [
       "0.9494974165258963"
      ]
     },
     "execution_count": 8,
     "metadata": {},
     "output_type": "execute_result"
    }
   ],
   "source": [
    "st.norm.cdf(1.64)"
   ]
  },
  {
   "cell_type": "markdown",
   "id": "38e414f3",
   "metadata": {},
   "source": [
    "a z-score tells us how many standard deviations away a value is from the mean. We use the following formula to calculate a z-score:"
   ]
  },
  {
   "cell_type": "code",
   "execution_count": null,
   "id": "a7ba3665",
   "metadata": {},
   "outputs": [],
   "source": []
  }
 ],
 "metadata": {
  "kernelspec": {
   "display_name": "Python 3 (ipykernel)",
   "language": "python",
   "name": "python3"
  },
  "language_info": {
   "codemirror_mode": {
    "name": "ipython",
    "version": 3
   },
   "file_extension": ".py",
   "mimetype": "text/x-python",
   "name": "python",
   "nbconvert_exporter": "python",
   "pygments_lexer": "ipython3",
   "version": "3.9.7"
  }
 },
 "nbformat": 4,
 "nbformat_minor": 5
}
