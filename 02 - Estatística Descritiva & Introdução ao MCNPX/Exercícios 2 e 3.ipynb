{
 "cells": [
  {
   "cell_type": "markdown",
   "id": "36ebd907",
   "metadata": {},
   "source": [
    "# Métodos Numéricos em Física Médica: Exercícios"
   ]
  },
  {
   "cell_type": "markdown",
   "id": "1742806d",
   "metadata": {},
   "source": [
    "## Exercício 2"
   ]
  },
  {
   "cell_type": "markdown",
   "id": "643cbddc",
   "metadata": {},
   "source": [
    "Na tabela 2 encontra dados sobre o número de partos e a idade de 20 das mulheres referidas no estudo anterior. Construa,\n",
    "usando o jupyter notebook, tabelas e gráficos de frequência e de frequências relativas do número de partos destas mulheres. Faça o mesmo para a idade, fazendo também o histograma."
   ]
  },
  {
   "cell_type": "markdown",
   "id": "3fa33b91",
   "metadata": {},
   "source": [
    "### Organizando os dados da tabela original nas listas partos e idades"
   ]
  },
  {
   "cell_type": "code",
   "execution_count": 2,
   "id": "e65be5a1",
   "metadata": {},
   "outputs": [],
   "source": [
    "# valores capturados da tabela\n",
    "brutos = \"2 30 2 33 0 34 1 34 2 34 3 34 1 36 2 36 2 38 0 40 4 42 1 43 3 45 3 45 1 46 2 46 3 46 2 47 3 47 3 47 3 47 0 48 3 49 3 50 2 56 3 56 5 57 8 57 2 60 4 60 1 61 0 62 1 62 0 63 2 66 2 66 2 67 2 68 4 68 2 69\""
   ]
  },
  {
   "cell_type": "code",
   "execution_count": 3,
   "id": "157de2c4",
   "metadata": {},
   "outputs": [],
   "source": [
    "brutos = list(map(int, brutos.split(' '))) # separados em uma lista de numeros inteiros"
   ]
  },
  {
   "cell_type": "code",
   "execution_count": 4,
   "id": "dd348c23",
   "metadata": {},
   "outputs": [],
   "source": [
    "partos, idades = [], []\n",
    "for i in range(len(brutos)):\n",
    "    if(i%2): idades.append(brutos[i])\n",
    "    else: partos.append(brutos[i])"
   ]
  },
  {
   "cell_type": "code",
   "execution_count": 5,
   "id": "1a5f02b9",
   "metadata": {},
   "outputs": [
    {
     "name": "stdout",
     "output_type": "stream",
     "text": [
      "[2, 2, 0, 1, 2, 3, 1, 2, 2, 0, 4, 1, 3, 3, 1, 2, 3, 2, 3, 3, 3, 0, 3, 3, 2, 3, 5, 8, 2, 4, 1, 0, 1, 0, 2, 2, 2, 2, 4, 2]\n"
     ]
    }
   ],
   "source": [
    "print(partos)"
   ]
  },
  {
   "cell_type": "code",
   "execution_count": 6,
   "id": "73b27f72",
   "metadata": {},
   "outputs": [
    {
     "name": "stdout",
     "output_type": "stream",
     "text": [
      "[30, 33, 34, 34, 34, 34, 36, 36, 38, 40, 42, 43, 45, 45, 46, 46, 46, 47, 47, 47, 47, 48, 49, 50, 56, 56, 57, 57, 60, 60, 61, 62, 62, 63, 66, 66, 67, 68, 68, 69]\n"
     ]
    }
   ],
   "source": [
    "print(idades)"
   ]
  },
  {
   "cell_type": "markdown",
   "id": "803ea391",
   "metadata": {},
   "source": [
    "### Criação da tabela de frequências e gráfico relativo ao número de partos"
   ]
  },
  {
   "cell_type": "code",
   "execution_count": 4,
   "id": "06fb8793",
   "metadata": {},
   "outputs": [],
   "source": [
    "import pandas as pd"
   ]
  },
  {
   "cell_type": "code",
   "execution_count": 5,
   "id": "e0ed5156",
   "metadata": {},
   "outputs": [],
   "source": [
    "df1 = pd.DataFrame(data=partos, columns=['Partos'])"
   ]
  },
  {
   "cell_type": "code",
   "execution_count": 6,
   "id": "abcc0a03",
   "metadata": {},
   "outputs": [],
   "source": [
    "freq1 = df1['Partos'].value_counts() # Para descobrir a frequência\n",
    "freq_rel1 = df1['Partos'].value_counts(normalize=True) # Para descobrir a frequência relativa"
   ]
  },
  {
   "cell_type": "code",
   "execution_count": 7,
   "id": "aafc2eed",
   "metadata": {},
   "outputs": [
    {
     "data": {
      "text/html": [
       "<div>\n",
       "<style scoped>\n",
       "    .dataframe tbody tr th:only-of-type {\n",
       "        vertical-align: middle;\n",
       "    }\n",
       "\n",
       "    .dataframe tbody tr th {\n",
       "        vertical-align: top;\n",
       "    }\n",
       "\n",
       "    .dataframe thead th {\n",
       "        text-align: right;\n",
       "    }\n",
       "</style>\n",
       "<table border=\"1\" class=\"dataframe\">\n",
       "  <thead>\n",
       "    <tr style=\"text-align: right;\">\n",
       "      <th></th>\n",
       "      <th>Frequência</th>\n",
       "      <th>Frequência Relativa</th>\n",
       "    </tr>\n",
       "    <tr>\n",
       "      <th>Partos</th>\n",
       "      <th></th>\n",
       "      <th></th>\n",
       "    </tr>\n",
       "  </thead>\n",
       "  <tbody>\n",
       "    <tr>\n",
       "      <th>2</th>\n",
       "      <td>14</td>\n",
       "      <td>0.350</td>\n",
       "    </tr>\n",
       "    <tr>\n",
       "      <th>3</th>\n",
       "      <td>10</td>\n",
       "      <td>0.250</td>\n",
       "    </tr>\n",
       "    <tr>\n",
       "      <th>1</th>\n",
       "      <td>6</td>\n",
       "      <td>0.150</td>\n",
       "    </tr>\n",
       "    <tr>\n",
       "      <th>0</th>\n",
       "      <td>5</td>\n",
       "      <td>0.125</td>\n",
       "    </tr>\n",
       "    <tr>\n",
       "      <th>4</th>\n",
       "      <td>3</td>\n",
       "      <td>0.075</td>\n",
       "    </tr>\n",
       "    <tr>\n",
       "      <th>5</th>\n",
       "      <td>1</td>\n",
       "      <td>0.025</td>\n",
       "    </tr>\n",
       "    <tr>\n",
       "      <th>8</th>\n",
       "      <td>1</td>\n",
       "      <td>0.025</td>\n",
       "    </tr>\n",
       "  </tbody>\n",
       "</table>\n",
       "</div>"
      ],
      "text/plain": [
       "        Frequência  Frequência Relativa\n",
       "Partos                                 \n",
       "2               14                0.350\n",
       "3               10                0.250\n",
       "1                6                0.150\n",
       "0                5                0.125\n",
       "4                3                0.075\n",
       "5                1                0.025\n",
       "8                1                0.025"
      ]
     },
     "execution_count": 7,
     "metadata": {},
     "output_type": "execute_result"
    }
   ],
   "source": [
    "df_freq1 = pd.DataFrame(data=freq1) # criação e configuração do novo dataframe\n",
    "df_freq1['freq_rel'] = freq_rel1\n",
    "df_freq1.columns = ['Frequência', 'Frequência Relativa']\n",
    "df_freq1.index.names = ['Partos']\n",
    "df_freq1"
   ]
  },
  {
   "cell_type": "code",
   "execution_count": 8,
   "id": "0ed0a7b6",
   "metadata": {},
   "outputs": [
    {
     "data": {
      "text/plain": [
       "<AxesSubplot:title={'center':'Frequência de Partos por Mulher'}, ylabel='Frequência'>"
      ]
     },
     "execution_count": 8,
     "metadata": {},
     "output_type": "execute_result"
    },
    {
     "data": {
      "image/png": "[encoded data removed]",
      "text/plain": [
       "<Figure size 432x288 with 1 Axes>"
      ]
     },
     "metadata": {},
     "output_type": "display_data"
    }
   ],
   "source": [
    "df_freq1.plot(kind='pie', y='Frequência', title='Frequência de Partos por Mulher')"
   ]
  },
  {
   "cell_type": "code",
   "execution_count": 9,
   "id": "1c32c3e6",
   "metadata": {},
   "outputs": [
    {
     "data": {
      "text/plain": [
       "<AxesSubplot:title={'center':'Frequência de Partos por Mulher'}, xlabel='Partos'>"
      ]
     },
     "execution_count": 9,
     "metadata": {},
     "output_type": "execute_result"
    },
    {
     "data": {
      "image/png": "[encoded data removed]",
      "text/plain": [
       "<Figure size 432x288 with 1 Axes>"
      ]
     },
     "metadata": {
      "needs_background": "light"
     },
     "output_type": "display_data"
    }
   ],
   "source": [
    "df_freq1.plot(kind='bar', y='Frequência', title='Frequência de Partos por Mulher')"
   ]
  },
  {
   "cell_type": "markdown",
   "id": "bd409b87",
   "metadata": {},
   "source": [
    "### idade, fazendo também o histograma"
   ]
  },
  {
   "cell_type": "code",
   "execution_count": 10,
   "id": "b5e66271",
   "metadata": {},
   "outputs": [],
   "source": [
    "df2 = pd.DataFrame(data=idades, columns=['idades'])"
   ]
  },
  {
   "cell_type": "code",
   "execution_count": 11,
   "id": "d40d8256",
   "metadata": {},
   "outputs": [],
   "source": [
    "freq2 = df2['idades'].value_counts() # Para descobrir a frequência\n",
    "freq_rel2 = df2['idades'].value_counts(normalize=True) # Para descobrir a frequência relativa"
   ]
  },
  {
   "cell_type": "code",
   "execution_count": 12,
   "id": "349d7b85",
   "metadata": {},
   "outputs": [
    {
     "data": {
      "text/html": [
       "<div>\n",
       "<style scoped>\n",
       "    .dataframe tbody tr th:only-of-type {\n",
       "        vertical-align: middle;\n",
       "    }\n",
       "\n",
       "    .dataframe tbody tr th {\n",
       "        vertical-align: top;\n",
       "    }\n",
       "\n",
       "    .dataframe thead th {\n",
       "        text-align: right;\n",
       "    }\n",
       "</style>\n",
       "<table border=\"1\" class=\"dataframe\">\n",
       "  <thead>\n",
       "    <tr style=\"text-align: right;\">\n",
       "      <th></th>\n",
       "      <th>Frequência</th>\n",
       "      <th>Frequência Relativa</th>\n",
       "    </tr>\n",
       "    <tr>\n",
       "      <th>Idades</th>\n",
       "      <th></th>\n",
       "      <th></th>\n",
       "    </tr>\n",
       "  </thead>\n",
       "  <tbody>\n",
       "    <tr>\n",
       "      <th>34</th>\n",
       "      <td>4</td>\n",
       "      <td>0.100</td>\n",
       "    </tr>\n",
       "    <tr>\n",
       "      <th>47</th>\n",
       "      <td>4</td>\n",
       "      <td>0.100</td>\n",
       "    </tr>\n",
       "    <tr>\n",
       "      <th>46</th>\n",
       "      <td>3</td>\n",
       "      <td>0.075</td>\n",
       "    </tr>\n",
       "    <tr>\n",
       "      <th>57</th>\n",
       "      <td>2</td>\n",
       "      <td>0.050</td>\n",
       "    </tr>\n",
       "    <tr>\n",
       "      <th>36</th>\n",
       "      <td>2</td>\n",
       "      <td>0.050</td>\n",
       "    </tr>\n",
       "    <tr>\n",
       "      <th>68</th>\n",
       "      <td>2</td>\n",
       "      <td>0.050</td>\n",
       "    </tr>\n",
       "    <tr>\n",
       "      <th>66</th>\n",
       "      <td>2</td>\n",
       "      <td>0.050</td>\n",
       "    </tr>\n",
       "    <tr>\n",
       "      <th>45</th>\n",
       "      <td>2</td>\n",
       "      <td>0.050</td>\n",
       "    </tr>\n",
       "    <tr>\n",
       "      <th>62</th>\n",
       "      <td>2</td>\n",
       "      <td>0.050</td>\n",
       "    </tr>\n",
       "    <tr>\n",
       "      <th>60</th>\n",
       "      <td>2</td>\n",
       "      <td>0.050</td>\n",
       "    </tr>\n",
       "    <tr>\n",
       "      <th>56</th>\n",
       "      <td>2</td>\n",
       "      <td>0.050</td>\n",
       "    </tr>\n",
       "    <tr>\n",
       "      <th>30</th>\n",
       "      <td>1</td>\n",
       "      <td>0.025</td>\n",
       "    </tr>\n",
       "    <tr>\n",
       "      <th>67</th>\n",
       "      <td>1</td>\n",
       "      <td>0.025</td>\n",
       "    </tr>\n",
       "    <tr>\n",
       "      <th>63</th>\n",
       "      <td>1</td>\n",
       "      <td>0.025</td>\n",
       "    </tr>\n",
       "    <tr>\n",
       "      <th>61</th>\n",
       "      <td>1</td>\n",
       "      <td>0.025</td>\n",
       "    </tr>\n",
       "    <tr>\n",
       "      <th>49</th>\n",
       "      <td>1</td>\n",
       "      <td>0.025</td>\n",
       "    </tr>\n",
       "    <tr>\n",
       "      <th>50</th>\n",
       "      <td>1</td>\n",
       "      <td>0.025</td>\n",
       "    </tr>\n",
       "    <tr>\n",
       "      <th>33</th>\n",
       "      <td>1</td>\n",
       "      <td>0.025</td>\n",
       "    </tr>\n",
       "    <tr>\n",
       "      <th>48</th>\n",
       "      <td>1</td>\n",
       "      <td>0.025</td>\n",
       "    </tr>\n",
       "    <tr>\n",
       "      <th>43</th>\n",
       "      <td>1</td>\n",
       "      <td>0.025</td>\n",
       "    </tr>\n",
       "    <tr>\n",
       "      <th>42</th>\n",
       "      <td>1</td>\n",
       "      <td>0.025</td>\n",
       "    </tr>\n",
       "    <tr>\n",
       "      <th>40</th>\n",
       "      <td>1</td>\n",
       "      <td>0.025</td>\n",
       "    </tr>\n",
       "    <tr>\n",
       "      <th>38</th>\n",
       "      <td>1</td>\n",
       "      <td>0.025</td>\n",
       "    </tr>\n",
       "    <tr>\n",
       "      <th>69</th>\n",
       "      <td>1</td>\n",
       "      <td>0.025</td>\n",
       "    </tr>\n",
       "  </tbody>\n",
       "</table>\n",
       "</div>"
      ],
      "text/plain": [
       "        Frequência  Frequência Relativa\n",
       "Idades                                 \n",
       "34               4                0.100\n",
       "47               4                0.100\n",
       "46               3                0.075\n",
       "57               2                0.050\n",
       "36               2                0.050\n",
       "68               2                0.050\n",
       "66               2                0.050\n",
       "45               2                0.050\n",
       "62               2                0.050\n",
       "60               2                0.050\n",
       "56               2                0.050\n",
       "30               1                0.025\n",
       "67               1                0.025\n",
       "63               1                0.025\n",
       "61               1                0.025\n",
       "49               1                0.025\n",
       "50               1                0.025\n",
       "33               1                0.025\n",
       "48               1                0.025\n",
       "43               1                0.025\n",
       "42               1                0.025\n",
       "40               1                0.025\n",
       "38               1                0.025\n",
       "69               1                0.025"
      ]
     },
     "execution_count": 12,
     "metadata": {},
     "output_type": "execute_result"
    }
   ],
   "source": [
    "df_freq2 = pd.DataFrame(data=freq2) # criação e configuração do novo dataframe\n",
    "df_freq2['freq_rel'] = freq_rel2\n",
    "df_freq2.columns = ['Frequência', 'Frequência Relativa']\n",
    "df_freq2.index.names = ['Idades']\n",
    "df_freq2"
   ]
  },
  {
   "cell_type": "code",
   "execution_count": 13,
   "id": "c576ecfb",
   "metadata": {},
   "outputs": [
    {
     "data": {
      "text/plain": [
       "<AxesSubplot:title={'center':'Frequência Etária das Mulheres Estudadas'}, ylabel='Frequência'>"
      ]
     },
     "execution_count": 13,
     "metadata": {},
     "output_type": "execute_result"
    },
    {
     "data": {
      "image/png": "[encoded data removed]",
      "text/plain": [
       "<Figure size 432x288 with 1 Axes>"
      ]
     },
     "metadata": {},
     "output_type": "display_data"
    }
   ],
   "source": [
    "df_freq2.plot(kind='pie', y='Frequência', title='Frequência Etária das Mulheres Estudadas')"
   ]
  },
  {
   "cell_type": "code",
   "execution_count": 14,
   "id": "67004cfe",
   "metadata": {},
   "outputs": [
    {
     "data": {
      "text/plain": [
       "<AxesSubplot:title={'center':'Frequência Etária das Mulheres Estudadas'}, xlabel='Idades'>"
      ]
     },
     "execution_count": 14,
     "metadata": {},
     "output_type": "execute_result"
    },
    {
     "data": {
      "image/png": "[encoded data removed]",
      "text/plain": [
       "<Figure size 432x288 with 1 Axes>"
      ]
     },
     "metadata": {
      "needs_background": "light"
     },
     "output_type": "display_data"
    }
   ],
   "source": [
    "df_freq2.plot(kind='bar', y='Frequência', title='Frequência Etária das Mulheres Estudadas')"
   ]
  },
  {
   "cell_type": "code",
   "execution_count": 15,
   "id": "1e338c36",
   "metadata": {},
   "outputs": [
    {
     "data": {
      "text/plain": [
       "<AxesSubplot:title={'center':'Histograma da Frequência Etária das Mulheres Estudadas'}, ylabel='Frequency'>"
      ]
     },
     "execution_count": 15,
     "metadata": {},
     "output_type": "execute_result"
    },
    {
     "data": {
      "image/png": "[encoded data removed]",
      "text/plain": [
       "<Figure size 432x288 with 1 Axes>"
      ]
     },
     "metadata": {
      "needs_background": "light"
     },
     "output_type": "display_data"
    }
   ],
   "source": [
    "df2.plot(kind='hist', title='Histograma da Frequência Etária das Mulheres Estudadas')"
   ]
  },
  {
   "cell_type": "markdown",
   "id": "0c8a7bf2",
   "metadata": {},
   "source": [
    "## Exercício 3"
   ]
  },
  {
   "cell_type": "markdown",
   "id": "330faea6",
   "metadata": {},
   "source": [
    "Na cidade X com 350 mil habitantes, realizou-se uma sondagem para as eleições autárquicas, com N=350 participantes. Os resultados da sondagem foram os seguintes:\n",
    "<pre>partido A: 98\n",
    "partido B: 5\n",
    "partido C: 34\n",
    "partido D: 108\n",
    "partido E: 105</pre>\n",
    "__a.__ Identifique a amostra e a população e os respectivos tamanhos."
   ]
  },
  {
   "cell_type": "markdown",
   "id": "77c5cd9e",
   "metadata": {},
   "source": [
    "> A __população__, neste caso, é o conjunto de todos os habitantes da cidade, no caso __350 mil__.<br>\n",
    "Já a __amostra__ é o número de pessoas que participaram da pesquisa, os __350__ participantes."
   ]
  },
  {
   "cell_type": "markdown",
   "id": "e1947745",
   "metadata": {},
   "source": [
    "__b.__ Usando o jupyter Notebook, faça gráficos com as frequências, as frequências relativas\n",
    "e as acumuladas"
   ]
  },
  {
   "cell_type": "code",
   "execution_count": 16,
   "id": "3a214e2b",
   "metadata": {},
   "outputs": [
    {
     "data": {
      "text/html": [
       "<div>\n",
       "<style scoped>\n",
       "    .dataframe tbody tr th:only-of-type {\n",
       "        vertical-align: middle;\n",
       "    }\n",
       "\n",
       "    .dataframe tbody tr th {\n",
       "        vertical-align: top;\n",
       "    }\n",
       "\n",
       "    .dataframe thead th {\n",
       "        text-align: right;\n",
       "    }\n",
       "</style>\n",
       "<table border=\"1\" class=\"dataframe\">\n",
       "  <thead>\n",
       "    <tr style=\"text-align: right;\">\n",
       "      <th></th>\n",
       "      <th>Votos</th>\n",
       "      <th>Frequências</th>\n",
       "      <th>Frequência Relativa</th>\n",
       "      <th>Frequência Acumulada</th>\n",
       "      <th>Frequência Acumulada Relativa</th>\n",
       "    </tr>\n",
       "    <tr>\n",
       "      <th>Partido</th>\n",
       "      <th></th>\n",
       "      <th></th>\n",
       "      <th></th>\n",
       "      <th></th>\n",
       "      <th></th>\n",
       "    </tr>\n",
       "  </thead>\n",
       "  <tbody>\n",
       "    <tr>\n",
       "      <th>A</th>\n",
       "      <td>98</td>\n",
       "      <td>98</td>\n",
       "      <td>0.280000</td>\n",
       "      <td>98</td>\n",
       "      <td>0.280000</td>\n",
       "    </tr>\n",
       "    <tr>\n",
       "      <th>B</th>\n",
       "      <td>5</td>\n",
       "      <td>5</td>\n",
       "      <td>0.014286</td>\n",
       "      <td>103</td>\n",
       "      <td>0.294286</td>\n",
       "    </tr>\n",
       "    <tr>\n",
       "      <th>C</th>\n",
       "      <td>34</td>\n",
       "      <td>34</td>\n",
       "      <td>0.097143</td>\n",
       "      <td>137</td>\n",
       "      <td>0.391429</td>\n",
       "    </tr>\n",
       "    <tr>\n",
       "      <th>D</th>\n",
       "      <td>108</td>\n",
       "      <td>108</td>\n",
       "      <td>0.308571</td>\n",
       "      <td>245</td>\n",
       "      <td>0.700000</td>\n",
       "    </tr>\n",
       "    <tr>\n",
       "      <th>E</th>\n",
       "      <td>105</td>\n",
       "      <td>105</td>\n",
       "      <td>0.300000</td>\n",
       "      <td>350</td>\n",
       "      <td>1.000000</td>\n",
       "    </tr>\n",
       "  </tbody>\n",
       "</table>\n",
       "</div>"
      ],
      "text/plain": [
       "         Votos  Frequências  Frequência Relativa  Frequência Acumulada  \\\n",
       "Partido                                                                  \n",
       "A           98           98             0.280000                    98   \n",
       "B            5            5             0.014286                   103   \n",
       "C           34           34             0.097143                   137   \n",
       "D          108          108             0.308571                   245   \n",
       "E          105          105             0.300000                   350   \n",
       "\n",
       "         Frequência Acumulada Relativa  \n",
       "Partido                                 \n",
       "A                             0.280000  \n",
       "B                             0.294286  \n",
       "C                             0.391429  \n",
       "D                             0.700000  \n",
       "E                             1.000000  "
      ]
     },
     "execution_count": 16,
     "metadata": {},
     "output_type": "execute_result"
    }
   ],
   "source": [
    "# O primeiro passo é a criação da tabela de frequências\n",
    "amostra = 350\n",
    "tb3 = pd.DataFrame({'Partido': ['A','B','C','D','E'], 'Votos': [98, 5, 34, 108, 105]})\n",
    "tb3 = tb3.set_index('Partido')\n",
    "tb3['Frequências'] = tb3['Votos'] # neste caso a frequência é o número de votos de cada partido\n",
    "tb3['Frequência Relativa'] = tb3['Frequências']/amostra\n",
    "tb3['Frequência Acumulada'] = tb3['Frequências'].cumsum()\n",
    "tb3['Frequência Acumulada Relativa'] = tb3['Frequência Acumulada']/amostra; tb3"
   ]
  },
  {
   "cell_type": "code",
   "execution_count": 17,
   "id": "81206026",
   "metadata": {},
   "outputs": [
    {
     "data": {
      "image/png": "[encoded data removed]",
      "text/plain": [
       "<Figure size 432x288 with 1 Axes>"
      ]
     },
     "metadata": {},
     "output_type": "display_data"
    }
   ],
   "source": [
    "import seaborn as sns # Teste com a biblioteca seaborn para visualização de gráficos\n",
    "import matplotlib.pyplot as plt\n",
    "sns.set_theme(style=\"whitegrid\")\n",
    "ax = sns.barplot(x=tb3.index, y=tb3['Frequências'], data=tb3).set(title='Distribuição das Frequências (votos) por partido')"
   ]
  },
  {
   "cell_type": "code",
   "execution_count": 18,
   "id": "f92e02ca",
   "metadata": {},
   "outputs": [
    {
     "data": {
      "image/png": "[encoded data removed]",
      "text/plain": [
       "<Figure size 432x288 with 1 Axes>"
      ]
     },
     "metadata": {},
     "output_type": "display_data"
    }
   ],
   "source": [
    "colors = sns.color_palette('pastel')[0:5]\n",
    "#create pie chart\n",
    "plt.pie(tb3['Frequência Relativa'], labels = tb3.index, colors = colors, autopct='%.0f%%')\n",
    "plt.title('Distribuição das Frequências Relativas por Partido')\n",
    "plt.show()"
   ]
  },
  {
   "cell_type": "code",
   "execution_count": 19,
   "id": "c87efda8",
   "metadata": {},
   "outputs": [
    {
     "data": {
      "image/png": "[encoded data removed]",
      "text/plain": [
       "<Figure size 432x288 with 1 Axes>"
      ]
     },
     "metadata": {},
     "output_type": "display_data"
    }
   ],
   "source": [
    "#import matplotlib.pyplot as plt\n",
    "fig = plt.figure()\n",
    "ax = fig.add_axes([0,0,1,1])\n",
    "ax.bar(tb3.index,tb3['Frequência Acumulada'])\n",
    "plt.title('Frequências Acumuladas da Distribuição')\n",
    "ax.set_xlabel('Partido')\n",
    "ax.set_ylabel('Frequência Acumulada')\n",
    "plt.show()"
   ]
  },
  {
   "cell_type": "code",
   "execution_count": null,
   "id": "bc347636",
   "metadata": {},
   "outputs": [],
   "source": []
  }
 ],
 "metadata": {
  "kernelspec": {
   "display_name": "Python 3 (ipykernel)",
   "language": "python",
   "name": "python3"
  },
  "language_info": {
   "codemirror_mode": {
    "name": "ipython",
    "version": 3
   },
   "file_extension": ".py",
   "mimetype": "text/x-python",
   "name": "python",
   "nbconvert_exporter": "python",
   "pygments_lexer": "ipython3",
   "version": "3.9.7"
  }
 },
 "nbformat": 4,
 "nbformat_minor": 5
}
