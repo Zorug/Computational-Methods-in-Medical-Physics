{
 "cells": [
  {
   "cell_type": "code",
   "execution_count": 22,
   "id": "e85cd60d",
   "metadata": {},
   "outputs": [],
   "source": [
    "s1=100.\n",
    "b1=0.\n",
    "t1=0.\n",
    "r1=0.\n",
    "i1=0.\n",
    "\n",
    "Sangue=[s1]\n",
    "Bexiga=[b1]\n",
    "Tiroide=[t1]\n",
    "RDC=[r1]\n",
    "Intestinos=[i1]\n",
    "\n",
    "dt=0.001\n",
    "N=100\n",
    "T=int(N/dt)"
   ]
  },
  {
   "cell_type": "code",
   "execution_count": 24,
   "id": "f2fe9b47",
   "metadata": {},
   "outputs": [
    {
     "data": {
      "text/plain": [
       "100000"
      ]
     },
     "execution_count": 24,
     "metadata": {},
     "output_type": "execute_result"
    }
   ],
   "source": [
    "int(N/dt)"
   ]
  },
  {
   "cell_type": "code",
   "execution_count": null,
   "id": "b46e7b54",
   "metadata": {},
   "outputs": [],
   "source": []
  }
 ],
 "metadata": {
  "kernelspec": {
   "display_name": "Python 3 (ipykernel)",
   "language": "python",
   "name": "python3"
  },
  "language_info": {
   "codemirror_mode": {
    "name": "ipython",
    "version": 3
   },
   "file_extension": ".py",
   "mimetype": "text/x-python",
   "name": "python",
   "nbconvert_exporter": "python",
   "pygments_lexer": "ipython3",
   "version": "3.9.7"
  }
 },
 "nbformat": 4,
 "nbformat_minor": 5
}
