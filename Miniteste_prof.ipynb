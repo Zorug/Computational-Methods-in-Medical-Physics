{
 "cells": [
  {
   "cell_type": "markdown",
   "id": "4df3bd2f",
   "metadata": {},
   "source": [
    "Binomial\n",
    "from scipy.stats import binom\n",
    "binom.pmf(k, n, p) / cdf\n",
    "p = probabilidade de sucesso\n",
    "n = número de tentativas\n",
    "k = probabilidade de k sucessos"
   ]
  },
  {
   "cell_type": "raw",
   "id": "c3a42e16",
   "metadata": {},
   "source": [
    "Gráfico\n",
    "\n",
    "\n",
    "def f(x, mean, sigma):\n",
    "    return norm.pdf(x,loc=mean,scale=sigma)\n",
    "\n",
    "x = np.linspace(-4,4,1000) ## range e número de pontos\n",
    "mean=[0,0,0,-2]; sigma=[0.2, 0.7, 1, 0.5]\n",
    "\n",
    "plt.xlabel('x')\n",
    "plt.ylabel('PDF')\n",
    "plt.title(\"PDF de uma Distribuição Normal\")\n",
    "\n",
    "for i in range(len(sigma)):\n",
    "    plt.plot(x, f(x, mean[i], sigma[i]), label = ['mean:' ,mean[i], 'std:', sigma[i]])\n",
    "    plt.legend()\n",
    "    plt.xticks(np.arange(min(x), max(x) +1, 1.0))\n",
    "    \n",
    "plt.scatter(x=points[0], y=points[1])"
   ]
  },
  {
   "cell_type": "markdown",
   "id": "c1270829",
   "metadata": {},
   "source": [
    "from scipy.stats import poisson\n",
    "poisson.pmf(x, l)\n",
    "poisson.cdf(x, l)"
   ]
  },
  {
   "cell_type": "raw",
   "id": "2d6e872a",
   "metadata": {},
   "source": [
    "Normal \n",
    "from scipy.stats import norm\n",
    "norm.pdf(x,loc=mean,scale=sigma)\n",
    "norm.cdf(x,loc=mean,scale=sigma)"
   ]
  },
  {
   "cell_type": "code",
   "execution_count": 1,
   "id": "aea0dc89",
   "metadata": {},
   "outputs": [],
   "source": [
    "import numpy as np\n",
    "import matplotlib.pyplot as plt\n",
    "import scipy"
   ]
  },
  {
   "cell_type": "markdown",
   "id": "8b9a27f9",
   "metadata": {},
   "source": [
    "### __1.__ Escolha: Poisson, Gauss, Binomial ou nda. Justifique"
   ]
  },
  {
   "cell_type": "markdown",
   "id": "12b82fdd",
   "metadata": {},
   "source": [
    "__a.__ Numa experiência anonimizada, foi dada a 500 pacientes uma nova vacina contra covid-19, com probabilidade para cada pessoa de 10% de ser a vacina, e 90% de ser placebo. Em seguida foram recolhidas 100 pessoas para realizarem testes."
   ]
  },
  {
   "cell_type": "markdown",
   "id": "d795d123",
   "metadata": {},
   "source": [
    "_Binomial, pois é uma distribuição que pode ser respondida com sim ou não (tomou a vacina ou não tomou) e os resultados são independentes dos anteriores._"
   ]
  },
  {
   "cell_type": "markdown",
   "id": "368e82f3",
   "metadata": {},
   "source": [
    "__b.__ Numa determinada amostra com N=6 mil cintigrafias renais com dados de muitos hospitais, a dose é dada de acordo com o peso. Determinou-se que o valor médio da dose efetiva para pessoas com 70 kg era de 4,2 mSv, com um desvio padrão de 0,4 mSv."
   ]
  },
  {
   "cell_type": "markdown",
   "id": "2d3d9f29",
   "metadata": {},
   "source": [
    "_Distribuição Gaussian, pois é uma distribuição modelada a partir de uma função normal, com valor médios e desvio padrão._"
   ]
  },
  {
   "cell_type": "markdown",
   "id": "0021586d",
   "metadata": {},
   "source": [
    "__c.__ Num determinado hospital, a taxa de ocupação média semanal ao fim de uma ano das camas da UCI é de 11%. Qual a probabilidade de mais de 5% das camas estarem ocupadas numa semana?"
   ]
  },
  {
   "cell_type": "markdown",
   "id": "4c36f990",
   "metadata": {},
   "source": [
    "_Escolheria a distribuição de Poisson, pois tem uma frequência em um intervalo, algo que define a utilização desta distribuição._"
   ]
  },
  {
   "cell_type": "markdown",
   "id": "80a41a0e",
   "metadata": {},
   "source": [
    "__d.__ Foram feitos 10 estudos de blindagem diferentes para um novo labirinto num centro de radioterapia. Destes, 5 tinham os cálculos certos, 5 estavam errados. O João escolheu 4 trabalhos ao calhas para mostrar a um colega."
   ]
  },
  {
   "cell_type": "markdown",
   "id": "639dda84",
   "metadata": {},
   "source": [
    "_Não escolheria nenhuma das alternativas, pois neste caso, com poucos valores os resultados não são independentes, não sendo eficiente utilizar nenhuma delas_"
   ]
  },
  {
   "cell_type": "markdown",
   "id": "1bd7d7e5",
   "metadata": {},
   "source": [
    "__e.__ Num determinado país com 10 milhões de habitantes a taxa incidência de uma determinada doença é de 1,2%/ano. Qual a probabilidade de pelo menos mil pessoas contraírem a doença em uma semana?"
   ]
  },
  {
   "cell_type": "markdown",
   "id": "d3830adc",
   "metadata": {},
   "source": [
    "_Este caso utilizaria Poisson, pela mesma razão do exercício c, existe aqui um intervalo de tempo na distribuição._"
   ]
  },
  {
   "cell_type": "markdown",
   "id": "4fbc5601",
   "metadata": {},
   "source": [
    "### 2. Resolva a), c) e e)"
   ]
  },
  {
   "cell_type": "markdown",
   "id": "e0b51233",
   "metadata": {},
   "source": [
    "__a.__ Numa experiência anonimizada, foi dada a 500 pacientes uma nova vacina contra covid-19, com probabilidade para cada pessoa de 10% de ser a vacina, e 90% de ser placebo. Em seguida foram recolhidas 100 pessoas para realizarem testes."
   ]
  },
  {
   "cell_type": "code",
   "execution_count": 2,
   "id": "c9f8c559",
   "metadata": {},
   "outputs": [],
   "source": [
    "import numpy as np\n",
    "import matplotlib.pyplot as plt\n",
    "import scipy\n",
    "from scipy.stats import binom\n",
    "\n",
    "p = 0.1 # probabilidade de sucesso: ser vacinada\n",
    "n = 100 # número de tentativas: 100 pessoas escolhidas ao acaso\n",
    "k = [] # lista de probabilidades de sucessos\n",
    "count = 0\n",
    "for i in range(50):\n",
    "    count = count + 1\n",
    "    k.append(count)"
   ]
  },
  {
   "cell_type": "code",
   "execution_count": 3,
   "id": "15475fe9",
   "metadata": {},
   "outputs": [],
   "source": [
    "def f(k, n, p):\n",
    "    return binom.pmf(k, n, p)"
   ]
  },
  {
   "cell_type": "code",
   "execution_count": 4,
   "id": "46393581",
   "metadata": {},
   "outputs": [
    {
     "data": {
      "text/plain": [
       "[<matplotlib.lines.Line2D at 0x1cde46455b0>]"
      ]
     },
     "execution_count": 4,
     "metadata": {},
     "output_type": "execute_result"
    },
    {
     "data": {
      "image/png": "[encoded data removed]",
      "text/plain": [
       "<Figure size 432x288 with 1 Axes>"
      ]
     },
     "metadata": {
      "needs_background": "light"
     },
     "output_type": "display_data"
    }
   ],
   "source": [
    "plt.plot(k, f(k, n, p))"
   ]
  },
  {
   "cell_type": "markdown",
   "id": "e4b3b2b3",
   "metadata": {},
   "source": [
    "__c.__ Num determinado hospital, a taxa de ocupação média semanal ao fim de uma ano das camas (4000) da UCI é de 11%. Qual a probabilidade de mais de 5% das camas estarem ocupadas numa semana?"
   ]
  },
  {
   "cell_type": "code",
   "execution_count": 5,
   "id": "9c61bd56",
   "metadata": {},
   "outputs": [],
   "source": [
    "N = 4000 # camas\n",
    "lambda_semanal = N*0.11\n",
    "x_semanal = N*0.05"
   ]
  },
  {
   "cell_type": "code",
   "execution_count": 6,
   "id": "7b08ef80",
   "metadata": {},
   "outputs": [
    {
     "name": "stdout",
     "output_type": "stream",
     "text": [
      "até 5%: a probabilidade é de: 9.243426699186764e-38\n"
     ]
    }
   ],
   "source": [
    "from scipy.stats import poisson\n",
    "pois = poisson.cdf(x_semanal, lambda_semanal) # ocupadas\n",
    "print('até 5%: a probabilidade é de:', pois)"
   ]
  },
  {
   "cell_type": "code",
   "execution_count": 7,
   "id": "8dafd9a4",
   "metadata": {},
   "outputs": [
    {
     "name": "stdout",
     "output_type": "stream",
     "text": [
      "a probabilidade de mais de 5% é: 1.0\n"
     ]
    }
   ],
   "source": [
    "resultado = 1-pois\n",
    "print('a probabilidade de mais de 5% é:', resultado) # aqui me esqueci como aumentam os zeros"
   ]
  },
  {
   "cell_type": "code",
   "execution_count": 8,
   "id": "d3155baa",
   "metadata": {},
   "outputs": [
    {
     "data": {
      "text/plain": [
       "[<matplotlib.lines.Line2D at 0x1cde4750fa0>]"
      ]
     },
     "execution_count": 8,
     "metadata": {},
     "output_type": "execute_result"
    },
    {
     "data": {
      "image/png": "[encoded data removed]",
      "text/plain": [
       "<Figure size 432x288 with 1 Axes>"
      ]
     },
     "metadata": {
      "needs_background": "light"
     },
     "output_type": "display_data"
    }
   ],
   "source": [
    "x = []\n",
    "count = 0\n",
    "for i in range(1000):\n",
    "    count = count + 1\n",
    "    x.append(count)\n",
    "l = lambda_semanal\n",
    "\n",
    "def f(x,l):\n",
    "    return poisson.pmf(x,l)\n",
    "\n",
    "plt.plot(x, f(x,l))"
   ]
  },
  {
   "cell_type": "markdown",
   "id": "7f5c70e0",
   "metadata": {},
   "source": [
    "__e.__ Num determinado país com 10 milhões de habitantes a taxa incidência de uma determinada doença é de 1,2%/ano. Qual a probabilidade de pelo menos mil pessoas contraírem a doença em uma semana?"
   ]
  },
  {
   "cell_type": "code",
   "execution_count": 9,
   "id": "6290079d",
   "metadata": {},
   "outputs": [
    {
     "data": {
      "text/plain": [
       "120000.0"
      ]
     },
     "execution_count": 9,
     "metadata": {},
     "output_type": "execute_result"
    }
   ],
   "source": [
    "N = 10000000\n",
    "lambda_ano = N*0.012; lambda_ano"
   ]
  },
  {
   "cell_type": "code",
   "execution_count": 10,
   "id": "0573bee5",
   "metadata": {},
   "outputs": [],
   "source": [
    "semanas_ano = 365.25/7"
   ]
  },
  {
   "cell_type": "code",
   "execution_count": 11,
   "id": "3facd6fb",
   "metadata": {},
   "outputs": [
    {
     "data": {
      "text/plain": [
       "2299.794661190965"
      ]
     },
     "execution_count": 11,
     "metadata": {},
     "output_type": "execute_result"
    }
   ],
   "source": [
    "labda_semana = lambda_ano/semanas_ano; labda_semana"
   ]
  },
  {
   "cell_type": "code",
   "execution_count": 12,
   "id": "29515f56",
   "metadata": {},
   "outputs": [
    {
     "data": {
      "text/plain": [
       "1.0"
      ]
     },
     "execution_count": 12,
     "metadata": {},
     "output_type": "execute_result"
    }
   ],
   "source": [
    "poiss = poisson.cdf(1000, lambda_semanal); poiss"
   ]
  },
  {
   "cell_type": "code",
   "execution_count": 13,
   "id": "028cbc8d",
   "metadata": {},
   "outputs": [
    {
     "data": {
      "text/plain": [
       "0.0"
      ]
     },
     "execution_count": 13,
     "metadata": {},
     "output_type": "execute_result"
    }
   ],
   "source": [
    "1 - poiss"
   ]
  },
  {
   "cell_type": "code",
   "execution_count": 14,
   "id": "4e6a9938",
   "metadata": {},
   "outputs": [
    {
     "data": {
      "text/plain": [
       "[<matplotlib.lines.Line2D at 0x1cde47c8d90>]"
      ]
     },
     "execution_count": 14,
     "metadata": {},
     "output_type": "execute_result"
    },
    {
     "data": {
      "image/png": "[encoded data removed]",
      "text/plain": [
       "<Figure size 432x288 with 1 Axes>"
      ]
     },
     "metadata": {
      "needs_background": "light"
     },
     "output_type": "display_data"
    }
   ],
   "source": [
    "x = []\n",
    "count = 0\n",
    "for i in range(1000):\n",
    "    count = count + 1\n",
    "    x.append(count)\n",
    "l = lambda_semanal\n",
    "\n",
    "def f(x,l):\n",
    "    return poisson.pmf(x,l)\n",
    "\n",
    "plt.plot(x, f(x,l))"
   ]
  },
  {
   "cell_type": "markdown",
   "id": "830e68e0",
   "metadata": {},
   "source": [
    "### 3."
   ]
  },
  {
   "cell_type": "code",
   "execution_count": 15,
   "id": "1a29a8cb",
   "metadata": {},
   "outputs": [],
   "source": [
    "V = 1.5*pow(10,-6); interacoes_por_particula = 20"
   ]
  },
  {
   "cell_type": "markdown",
   "id": "3602f902",
   "metadata": {},
   "source": [
    "__a.__"
   ]
  },
  {
   "cell_type": "code",
   "execution_count": 17,
   "id": "890e6ada",
   "metadata": {},
   "outputs": [
    {
     "data": {
      "text/plain": [
       "[<matplotlib.lines.Line2D at 0x1cde5864310>]"
      ]
     },
     "execution_count": 17,
     "metadata": {},
     "output_type": "execute_result"
    },
    {
     "data": {
      "image/png": "[encoded data removed]",
      "text/plain": [
       "<Figure size 432x288 with 1 Axes>"
      ]
     },
     "metadata": {
      "needs_background": "light"
     },
     "output_type": "display_data"
    }
   ],
   "source": [
    "x = []\n",
    "count = 0\n",
    "for i in range(100):\n",
    "    count = count + 1\n",
    "    x.append(count)\n",
    "l = interacoes_por_particula\n",
    "def f(x,l):\n",
    "    return poisson.pmf(x,l)\n",
    "plt.plot(x, f(x,l))"
   ]
  },
  {
   "cell_type": "code",
   "execution_count": 20,
   "id": "e56ae875",
   "metadata": {},
   "outputs": [
    {
     "data": {
      "text/plain": [
       "[<matplotlib.lines.Line2D at 0x1cde58c14c0>]"
      ]
     },
     "execution_count": 20,
     "metadata": {},
     "output_type": "execute_result"
    },
    {
     "data": {
      "image/png": "[encoded data removed]",
      "text/plain": [
       "<Figure size 432x288 with 1 Axes>"
      ]
     },
     "metadata": {
      "needs_background": "light"
     },
     "output_type": "display_data"
    }
   ],
   "source": [
    "plt.plot(x, poisson.cdf(x,l))"
   ]
  },
  {
   "cell_type": "markdown",
   "id": "0e99aaad",
   "metadata": {},
   "source": [
    "__b. i.__ pelo menos 20 interações"
   ]
  },
  {
   "cell_type": "code",
   "execution_count": 19,
   "id": "94266a0a",
   "metadata": {},
   "outputs": [
    {
     "data": {
      "text/plain": [
       "0.44090741576867487"
      ]
     },
     "execution_count": 19,
     "metadata": {},
     "output_type": "execute_result"
    }
   ],
   "source": [
    "1 - poisson.cdf(20,l)"
   ]
  },
  {
   "cell_type": "markdown",
   "id": "15d723fd",
   "metadata": {},
   "source": [
    "__b. ii.__ pelo menos 10 interações"
   ]
  },
  {
   "cell_type": "code",
   "execution_count": 21,
   "id": "e503149a",
   "metadata": {},
   "outputs": [
    {
     "data": {
      "text/plain": [
       "0.9891882811733472"
      ]
     },
     "execution_count": 21,
     "metadata": {},
     "output_type": "execute_result"
    }
   ],
   "source": [
    "1 - poisson.cdf(10,l)"
   ]
  },
  {
   "cell_type": "markdown",
   "id": "5e9d71c5",
   "metadata": {},
   "source": [
    "__c. i.__ até 30 interações"
   ]
  },
  {
   "cell_type": "code",
   "execution_count": 22,
   "id": "dc805523",
   "metadata": {},
   "outputs": [
    {
     "data": {
      "text/plain": [
       "0.9865253187200778"
      ]
     },
     "execution_count": 22,
     "metadata": {},
     "output_type": "execute_result"
    }
   ],
   "source": [
    "poisson.cdf(30,l)"
   ]
  },
  {
   "cell_type": "markdown",
   "id": "f3c8fb83",
   "metadata": {},
   "source": [
    "__c. ii.__ até 40 interações"
   ]
  },
  {
   "cell_type": "code",
   "execution_count": 23,
   "id": "b94b2682",
   "metadata": {},
   "outputs": [
    {
     "data": {
      "text/plain": [
       "0.9999745736817659"
      ]
     },
     "execution_count": 23,
     "metadata": {},
     "output_type": "execute_result"
    }
   ],
   "source": [
    "poisson.cdf(40,l)"
   ]
  },
  {
   "cell_type": "markdown",
   "id": "373a06e4",
   "metadata": {},
   "source": [
    "__d.__ Gráfico em Gy = J/Kg"
   ]
  },
  {
   "cell_type": "code",
   "execution_count": 30,
   "id": "1de40249",
   "metadata": {},
   "outputs": [],
   "source": [
    "Energia_por_interacao = 1000 #eV\n",
    "#ev to J\n",
    "E_J = 1.609*pow(10,-16)\n",
    "\n",
    "V = 1.5*pow(10,-6) #m²\n",
    "\n",
    "densidade = 1 #gcm³\n",
    "d = 1000 #gm³"
   ]
  },
  {
   "cell_type": "code",
   "execution_count": 31,
   "id": "fcbd5c5b",
   "metadata": {},
   "outputs": [
    {
     "data": {
      "text/plain": [
       "[<matplotlib.lines.Line2D at 0x1cde5a16610>]"
      ]
     },
     "execution_count": 31,
     "metadata": {},
     "output_type": "execute_result"
    },
    {
     "data": {
      "image/png": "[encoded data removed]",
      "text/plain": [
       "<Figure size 432x288 with 1 Axes>"
      ]
     },
     "metadata": {
      "needs_background": "light"
     },
     "output_type": "display_data"
    }
   ],
   "source": [
    "x = []\n",
    "count = 0\n",
    "for i in range(100):\n",
    "    count = count + 1\n",
    "    x.append(count)\n",
    "l = interacoes_por_particula\n",
    "\n",
    "poisson.pmf(x,l) # prob. por interação\n",
    "\n",
    "#dose_por_interacao = ?\n",
    "\n",
    "def dose_por_interacao(x,l):\n",
    "    \n",
    "    massa = d*V\n",
    "    dose = E_J/massa\n",
    "    return dose*poisson.pmf(x,l)\n",
    "\n",
    "plt.plot(x, dose_por_interacao(x,l))"
   ]
  },
  {
   "cell_type": "code",
   "execution_count": null,
   "id": "aa9a3a42",
   "metadata": {},
   "outputs": [],
   "source": []
  }
 ],
 "metadata": {
  "kernelspec": {
   "display_name": "Python 3 (ipykernel)",
   "language": "python",
   "name": "python3"
  },
  "language_info": {
   "codemirror_mode": {
    "name": "ipython",
    "version": 3
   },
   "file_extension": ".py",
   "mimetype": "text/x-python",
   "name": "python",
   "nbconvert_exporter": "python",
   "pygments_lexer": "ipython3",
   "version": "3.9.7"
  }
 },
 "nbformat": 4,
 "nbformat_minor": 5
}
