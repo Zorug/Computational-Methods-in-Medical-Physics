{
 "cells": [
  {
   "cell_type": "markdown",
   "id": "8e4238f2",
   "metadata": {},
   "source": [
    "# Exercícios de Estatística Descritiva. Valores-sumário, quantis, e indicadores de alcance."
   ]
  },
  {
   "cell_type": "markdown",
   "id": "7dd64ebd",
   "metadata": {},
   "source": [
    "## Exercício 1"
   ]
  },
  {
   "cell_type": "markdown",
   "id": "bb6b030e",
   "metadata": {},
   "source": [
    "Determine a média, a moda, e a mediana das idades e do número de partos da tabela 2\n",
    "usando o jupyter notebook"
   ]
  },
  {
   "cell_type": "code",
   "execution_count": 1,
   "id": "7e0641a5",
   "metadata": {},
   "outputs": [],
   "source": [
    "# Recaptulação de dados do programa anterior:\n",
    "partos = [2, 2, 0, 1, 2, 3, 1, 2, 2, 0, 4, 1, 3, 3, 1, 2, 3, 2, 3, 3, 3, 0, 3, 3, 2, 3, 5, 8, 2, 4, 1, 0, 1, 0, 2, 2, 2, 2, 4, 2]\n",
    "idades = [30, 33, 34, 34, 34, 34, 36, 36, 38, 40, 42, 43, 45, 45, 46, 46, 46, 47, 47, 47, 47, 48, 49, 50, 56, 56, 57, 57, 60, 60, 61, 62, 62, 63, 66, 66, 67, 68, 68, 69]"
   ]
  },
  {
   "cell_type": "code",
   "execution_count": 2,
   "id": "10f29579",
   "metadata": {},
   "outputs": [],
   "source": [
    "import numpy as np # neste exemplo vamos utilizar o numpy"
   ]
  },
  {
   "cell_type": "code",
   "execution_count": 3,
   "id": "a2d8d60c",
   "metadata": {},
   "outputs": [
    {
     "data": {
      "text/plain": [
       "(49.875, 2.225)"
      ]
     },
     "execution_count": 3,
     "metadata": {},
     "output_type": "execute_result"
    }
   ],
   "source": [
    "np.mean(idades), np.mean(partos) # Média"
   ]
  },
  {
   "cell_type": "code",
   "execution_count": 4,
   "id": "98733dfc",
   "metadata": {},
   "outputs": [
    {
     "data": {
      "text/plain": [
       "(47.0, 2.0)"
      ]
     },
     "execution_count": 4,
     "metadata": {},
     "output_type": "execute_result"
    }
   ],
   "source": [
    "np.median(idades), np.median(partos) # Mediana"
   ]
  },
  {
   "cell_type": "code",
   "execution_count": 5,
   "id": "ebfe5f9e",
   "metadata": {},
   "outputs": [
    {
     "data": {
      "text/plain": [
       "(array([0, 1, 2, 3, 4, 5, 8]),\n",
       " array([ 5,  6, 14, 10,  3,  1,  1], dtype=int64))"
      ]
     },
     "execution_count": 5,
     "metadata": {},
     "output_type": "execute_result"
    }
   ],
   "source": [
    "#find unique values in array along with their counts\n",
    "vals, counts = np.unique(partos, return_counts=True); vals, counts"
   ]
  },
  {
   "cell_type": "code",
   "execution_count": 6,
   "id": "3410f249",
   "metadata": {},
   "outputs": [
    {
     "data": {
      "text/plain": [
       "array([[2]], dtype=int64)"
      ]
     },
     "execution_count": 6,
     "metadata": {},
     "output_type": "execute_result"
    }
   ],
   "source": [
    "#find mode\n",
    "mode_value = np.argwhere(counts == np.max(counts)); mode_value"
   ]
  },
  {
   "cell_type": "markdown",
   "id": "e9884571",
   "metadata": {},
   "source": [
    "para as idades é só substituir a lista"
   ]
  },
  {
   "cell_type": "markdown",
   "id": "104ab4d8",
   "metadata": {},
   "source": [
    "## Exercício 2"
   ]
  },
  {
   "cell_type": "markdown",
   "id": "051d3ce3",
   "metadata": {},
   "source": [
    "Determine a variância, o desvio-padrão e o erro-padrão das idades e do número de partos\n",
    "da mesma tabela, usando o jupyter notebook."
   ]
  },
  {
   "cell_type": "code",
   "execution_count": 7,
   "id": "a3265d8d",
   "metadata": {},
   "outputs": [
    {
     "data": {
      "text/plain": [
       "(133.959375, 2.274375)"
      ]
     },
     "execution_count": 7,
     "metadata": {},
     "output_type": "execute_result"
    }
   ],
   "source": [
    "np.var(idades), np.var(partos) # variância"
   ]
  },
  {
   "cell_type": "code",
   "execution_count": 8,
   "id": "458f2b2a",
   "metadata": {},
   "outputs": [
    {
     "data": {
      "text/plain": [
       "(11.574082037034298, 1.5081031131855673)"
      ]
     },
     "execution_count": 8,
     "metadata": {},
     "output_type": "execute_result"
    }
   ],
   "source": [
    "np.std(idades), np.std(partos) # desvio padrão"
   ]
  },
  {
   "cell_type": "code",
   "execution_count": 9,
   "id": "55d457a7",
   "metadata": {},
   "outputs": [
    {
     "data": {
      "text/plain": [
       "(1.8533363885789242, 0.2414897672621092)"
      ]
     },
     "execution_count": 9,
     "metadata": {},
     "output_type": "execute_result"
    }
   ],
   "source": [
    "from scipy.stats import sem\n",
    "#calculate standard error of the mean \n",
    "sem(idades), sem(partos)"
   ]
  },
  {
   "cell_type": "markdown",
   "id": "cb6fb50c",
   "metadata": {},
   "source": [
    "## Exercício 3"
   ]
  },
  {
   "cell_type": "markdown",
   "id": "23115a97",
   "metadata": {},
   "source": [
    "Considere os dados da tabela 3. Passe os dados para formato .csv e no jupyter\n",
    "faça um notebook, onde explica detalhadamente o que fez, onde:"
   ]
  },
  {
   "cell_type": "code",
   "execution_count": 10,
   "id": "9bd3ffda",
   "metadata": {},
   "outputs": [],
   "source": [
    "import pandas as pd"
   ]
  },
  {
   "cell_type": "code",
   "execution_count": 27,
   "id": "64f374a9",
   "metadata": {},
   "outputs": [
    {
     "data": {
      "text/html": [
       "<div>\n",
       "<style scoped>\n",
       "    .dataframe tbody tr th:only-of-type {\n",
       "        vertical-align: middle;\n",
       "    }\n",
       "\n",
       "    .dataframe tbody tr th {\n",
       "        vertical-align: top;\n",
       "    }\n",
       "\n",
       "    .dataframe thead th {\n",
       "        text-align: right;\n",
       "    }\n",
       "</style>\n",
       "<table border=\"1\" class=\"dataframe\">\n",
       "  <thead>\n",
       "    <tr style=\"text-align: right;\">\n",
       "      <th></th>\n",
       "      <th>ID</th>\n",
       "      <th>Peso(g)</th>\n",
       "      <th>Valor Apgar</th>\n",
       "      <th>Género</th>\n",
       "      <th>Mãe fumou na gravidez</th>\n",
       "      <th>Paridade</th>\n",
       "    </tr>\n",
       "  </thead>\n",
       "  <tbody>\n",
       "    <tr>\n",
       "      <th>0</th>\n",
       "      <td>1</td>\n",
       "      <td>3710</td>\n",
       "      <td>8</td>\n",
       "      <td>M</td>\n",
       "      <td>não</td>\n",
       "      <td>1</td>\n",
       "    </tr>\n",
       "    <tr>\n",
       "      <th>1</th>\n",
       "      <td>2</td>\n",
       "      <td>3650</td>\n",
       "      <td>7</td>\n",
       "      <td>F</td>\n",
       "      <td>não</td>\n",
       "      <td>1</td>\n",
       "    </tr>\n",
       "    <tr>\n",
       "      <th>2</th>\n",
       "      <td>3</td>\n",
       "      <td>4490</td>\n",
       "      <td>8</td>\n",
       "      <td>M</td>\n",
       "      <td>não</td>\n",
       "      <td>0</td>\n",
       "    </tr>\n",
       "    <tr>\n",
       "      <th>3</th>\n",
       "      <td>4</td>\n",
       "      <td>3421</td>\n",
       "      <td>6</td>\n",
       "      <td>F</td>\n",
       "      <td>sim</td>\n",
       "      <td>1</td>\n",
       "    </tr>\n",
       "    <tr>\n",
       "      <th>4</th>\n",
       "      <td>5</td>\n",
       "      <td>3399</td>\n",
       "      <td>6</td>\n",
       "      <td>F</td>\n",
       "      <td>não</td>\n",
       "      <td>2</td>\n",
       "    </tr>\n",
       "  </tbody>\n",
       "</table>\n",
       "</div>"
      ],
      "text/plain": [
       "   ID  Peso(g)  Valor Apgar Género Mãe fumou na gravidez  Paridade\n",
       "0   1     3710            8      M                   não         1\n",
       "1   2     3650            7      F                   não         1\n",
       "2   3     4490            8      M                   não         0\n",
       "3   4     3421            6      F                   sim         1\n",
       "4   5     3399            6      F                   não         2"
      ]
     },
     "execution_count": 27,
     "metadata": {},
     "output_type": "execute_result"
    }
   ],
   "source": [
    "tabela = pd.read_csv('Exercício.csv'); tabela.head(5)"
   ]
  },
  {
   "cell_type": "markdown",
   "id": "7373c4eb",
   "metadata": {},
   "source": [
    "__a.__ Identifica os tipos de variável.\n"
   ]
  },
  {
   "cell_type": "markdown",
   "id": "55e0c3d6",
   "metadata": {},
   "source": [
    "- ID                        int64 - _categórica_, pode ser nominal ou ordinal\n",
    "- Peso(g)                   int64 - __numérica__ continua/discreta\n",
    "- Valor Apgar               int64 - __numérica__ - continua/discreta\n",
    "- Género                   object - _categórica_ nominal\n",
    "- Mãe fumou na gravidez    object - _categórica_ nominal\n",
    "- Paridade                  int64 - __numérica__ discreta"
   ]
  },
  {
   "cell_type": "markdown",
   "id": "e6290c40",
   "metadata": {},
   "source": [
    "__b.__ Utiliza as ferramentas que aprendeu até agora para fazer a descrição de todas as\n",
    "variáveis, justificando porque escolheu cada ferramenta."
   ]
  },
  {
   "cell_type": "code",
   "execution_count": 31,
   "id": "9b11bb71",
   "metadata": {},
   "outputs": [
    {
     "data": {
      "text/plain": [
       "ID                        int64\n",
       "Peso(g)                   int64\n",
       "Valor Apgar               int64\n",
       "Género                   object\n",
       "Mãe fumou na gravidez    object\n",
       "Paridade                  int64\n",
       "dtype: object"
      ]
     },
     "execution_count": 31,
     "metadata": {},
     "output_type": "execute_result"
    }
   ],
   "source": [
    "tabela.dtypes"
   ]
  },
  {
   "cell_type": "markdown",
   "id": "2a1fdfba",
   "metadata": {},
   "source": [
    "__c.__ Determina a moda, a média e a mediana de todas as variáveis __numéricas__."
   ]
  },
  {
   "cell_type": "code",
   "execution_count": 35,
   "id": "c30ce261",
   "metadata": {},
   "outputs": [],
   "source": [
    "tabela_numericas = tabela[[\"Peso(g)\", \"Valor Apgar\", \"Paridade\"]]"
   ]
  },
  {
   "cell_type": "code",
   "execution_count": 90,
   "id": "0b8ade41",
   "metadata": {},
   "outputs": [
    {
     "data": {
      "text/plain": [
       "Peso(g)        3644.366667\n",
       "Valor Apgar       6.900000\n",
       "Paridade          1.433333\n",
       "dtype: float64"
      ]
     },
     "execution_count": 90,
     "metadata": {},
     "output_type": "execute_result"
    }
   ],
   "source": [
    "tabela_numericas.mean() # média"
   ]
  },
  {
   "cell_type": "code",
   "execution_count": 37,
   "id": "464d6af4",
   "metadata": {},
   "outputs": [
    {
     "data": {
      "text/plain": [
       "Peso(g)        3614.0\n",
       "Valor Apgar       7.0\n",
       "Paridade          1.0\n",
       "dtype: float64"
      ]
     },
     "execution_count": 37,
     "metadata": {},
     "output_type": "execute_result"
    }
   ],
   "source": [
    "tabela_numericas.median() # mediana"
   ]
  },
  {
   "cell_type": "code",
   "execution_count": 38,
   "id": "ac9bee56",
   "metadata": {},
   "outputs": [
    {
     "data": {
      "text/html": [
       "<div>\n",
       "<style scoped>\n",
       "    .dataframe tbody tr th:only-of-type {\n",
       "        vertical-align: middle;\n",
       "    }\n",
       "\n",
       "    .dataframe tbody tr th {\n",
       "        vertical-align: top;\n",
       "    }\n",
       "\n",
       "    .dataframe thead th {\n",
       "        text-align: right;\n",
       "    }\n",
       "</style>\n",
       "<table border=\"1\" class=\"dataframe\">\n",
       "  <thead>\n",
       "    <tr style=\"text-align: right;\">\n",
       "      <th></th>\n",
       "      <th>Peso(g)</th>\n",
       "      <th>Valor Apgar</th>\n",
       "      <th>Paridade</th>\n",
       "    </tr>\n",
       "  </thead>\n",
       "  <tbody>\n",
       "    <tr>\n",
       "      <th>0</th>\n",
       "      <td>2860</td>\n",
       "      <td>8.0</td>\n",
       "      <td>1.0</td>\n",
       "    </tr>\n",
       "    <tr>\n",
       "      <th>1</th>\n",
       "      <td>2994</td>\n",
       "      <td>NaN</td>\n",
       "      <td>NaN</td>\n",
       "    </tr>\n",
       "    <tr>\n",
       "      <th>2</th>\n",
       "      <td>3193</td>\n",
       "      <td>NaN</td>\n",
       "      <td>NaN</td>\n",
       "    </tr>\n",
       "    <tr>\n",
       "      <th>3</th>\n",
       "      <td>3266</td>\n",
       "      <td>NaN</td>\n",
       "      <td>NaN</td>\n",
       "    </tr>\n",
       "    <tr>\n",
       "      <th>4</th>\n",
       "      <td>3287</td>\n",
       "      <td>NaN</td>\n",
       "      <td>NaN</td>\n",
       "    </tr>\n",
       "    <tr>\n",
       "      <th>5</th>\n",
       "      <td>3303</td>\n",
       "      <td>NaN</td>\n",
       "      <td>NaN</td>\n",
       "    </tr>\n",
       "    <tr>\n",
       "      <th>6</th>\n",
       "      <td>3388</td>\n",
       "      <td>NaN</td>\n",
       "      <td>NaN</td>\n",
       "    </tr>\n",
       "    <tr>\n",
       "      <th>7</th>\n",
       "      <td>3399</td>\n",
       "      <td>NaN</td>\n",
       "      <td>NaN</td>\n",
       "    </tr>\n",
       "    <tr>\n",
       "      <th>8</th>\n",
       "      <td>3400</td>\n",
       "      <td>NaN</td>\n",
       "      <td>NaN</td>\n",
       "    </tr>\n",
       "    <tr>\n",
       "      <th>9</th>\n",
       "      <td>3421</td>\n",
       "      <td>NaN</td>\n",
       "      <td>NaN</td>\n",
       "    </tr>\n",
       "    <tr>\n",
       "      <th>10</th>\n",
       "      <td>3447</td>\n",
       "      <td>NaN</td>\n",
       "      <td>NaN</td>\n",
       "    </tr>\n",
       "    <tr>\n",
       "      <th>11</th>\n",
       "      <td>3508</td>\n",
       "      <td>NaN</td>\n",
       "      <td>NaN</td>\n",
       "    </tr>\n",
       "    <tr>\n",
       "      <th>12</th>\n",
       "      <td>3541</td>\n",
       "      <td>NaN</td>\n",
       "      <td>NaN</td>\n",
       "    </tr>\n",
       "    <tr>\n",
       "      <th>13</th>\n",
       "      <td>3594</td>\n",
       "      <td>NaN</td>\n",
       "      <td>NaN</td>\n",
       "    </tr>\n",
       "    <tr>\n",
       "      <th>14</th>\n",
       "      <td>3613</td>\n",
       "      <td>NaN</td>\n",
       "      <td>NaN</td>\n",
       "    </tr>\n",
       "    <tr>\n",
       "      <th>15</th>\n",
       "      <td>3615</td>\n",
       "      <td>NaN</td>\n",
       "      <td>NaN</td>\n",
       "    </tr>\n",
       "    <tr>\n",
       "      <th>16</th>\n",
       "      <td>3650</td>\n",
       "      <td>NaN</td>\n",
       "      <td>NaN</td>\n",
       "    </tr>\n",
       "    <tr>\n",
       "      <th>17</th>\n",
       "      <td>3666</td>\n",
       "      <td>NaN</td>\n",
       "      <td>NaN</td>\n",
       "    </tr>\n",
       "    <tr>\n",
       "      <th>18</th>\n",
       "      <td>3710</td>\n",
       "      <td>NaN</td>\n",
       "      <td>NaN</td>\n",
       "    </tr>\n",
       "    <tr>\n",
       "      <th>19</th>\n",
       "      <td>3798</td>\n",
       "      <td>NaN</td>\n",
       "      <td>NaN</td>\n",
       "    </tr>\n",
       "    <tr>\n",
       "      <th>20</th>\n",
       "      <td>3800</td>\n",
       "      <td>NaN</td>\n",
       "      <td>NaN</td>\n",
       "    </tr>\n",
       "    <tr>\n",
       "      <th>21</th>\n",
       "      <td>3886</td>\n",
       "      <td>NaN</td>\n",
       "      <td>NaN</td>\n",
       "    </tr>\n",
       "    <tr>\n",
       "      <th>22</th>\n",
       "      <td>3896</td>\n",
       "      <td>NaN</td>\n",
       "      <td>NaN</td>\n",
       "    </tr>\n",
       "    <tr>\n",
       "      <th>23</th>\n",
       "      <td>4006</td>\n",
       "      <td>NaN</td>\n",
       "      <td>NaN</td>\n",
       "    </tr>\n",
       "    <tr>\n",
       "      <th>24</th>\n",
       "      <td>4010</td>\n",
       "      <td>NaN</td>\n",
       "      <td>NaN</td>\n",
       "    </tr>\n",
       "    <tr>\n",
       "      <th>25</th>\n",
       "      <td>4090</td>\n",
       "      <td>NaN</td>\n",
       "      <td>NaN</td>\n",
       "    </tr>\n",
       "    <tr>\n",
       "      <th>26</th>\n",
       "      <td>4094</td>\n",
       "      <td>NaN</td>\n",
       "      <td>NaN</td>\n",
       "    </tr>\n",
       "    <tr>\n",
       "      <th>27</th>\n",
       "      <td>4200</td>\n",
       "      <td>NaN</td>\n",
       "      <td>NaN</td>\n",
       "    </tr>\n",
       "    <tr>\n",
       "      <th>28</th>\n",
       "      <td>4206</td>\n",
       "      <td>NaN</td>\n",
       "      <td>NaN</td>\n",
       "    </tr>\n",
       "    <tr>\n",
       "      <th>29</th>\n",
       "      <td>4490</td>\n",
       "      <td>NaN</td>\n",
       "      <td>NaN</td>\n",
       "    </tr>\n",
       "  </tbody>\n",
       "</table>\n",
       "</div>"
      ],
      "text/plain": [
       "    Peso(g)  Valor Apgar  Paridade\n",
       "0      2860          8.0       1.0\n",
       "1      2994          NaN       NaN\n",
       "2      3193          NaN       NaN\n",
       "3      3266          NaN       NaN\n",
       "4      3287          NaN       NaN\n",
       "5      3303          NaN       NaN\n",
       "6      3388          NaN       NaN\n",
       "7      3399          NaN       NaN\n",
       "8      3400          NaN       NaN\n",
       "9      3421          NaN       NaN\n",
       "10     3447          NaN       NaN\n",
       "11     3508          NaN       NaN\n",
       "12     3541          NaN       NaN\n",
       "13     3594          NaN       NaN\n",
       "14     3613          NaN       NaN\n",
       "15     3615          NaN       NaN\n",
       "16     3650          NaN       NaN\n",
       "17     3666          NaN       NaN\n",
       "18     3710          NaN       NaN\n",
       "19     3798          NaN       NaN\n",
       "20     3800          NaN       NaN\n",
       "21     3886          NaN       NaN\n",
       "22     3896          NaN       NaN\n",
       "23     4006          NaN       NaN\n",
       "24     4010          NaN       NaN\n",
       "25     4090          NaN       NaN\n",
       "26     4094          NaN       NaN\n",
       "27     4200          NaN       NaN\n",
       "28     4206          NaN       NaN\n",
       "29     4490          NaN       NaN"
      ]
     },
     "execution_count": 38,
     "metadata": {},
     "output_type": "execute_result"
    }
   ],
   "source": [
    "tabela_numericas.mode() # moda"
   ]
  },
  {
   "cell_type": "markdown",
   "id": "cfeecaa7",
   "metadata": {},
   "source": [
    "- Para o peso não há uma moda definida, porém poderia ser interessante para uma futura análise fazer um agrupamento por intervalos, assim seria possível ter um resultado mais interessante relativo à análise modal.<br>\n",
    "- A moda do Valor Apgar é 8.<br>\n",
    "- A moda da paridade é de 1 filho por mulher.<p><br>\n",
    "Abaixo encontram-se os gráficos relativos às frequências dos dados"
   ]
  },
  {
   "cell_type": "code",
   "execution_count": 84,
   "id": "b3b43f95",
   "metadata": {},
   "outputs": [
    {
     "data": {
      "text/plain": [
       "<AxesSubplot:title={'center':'Peso(g)'}, ylabel='Frequency'>"
      ]
     },
     "execution_count": 84,
     "metadata": {},
     "output_type": "execute_result"
    },
    {
     "data": {
      "image/png": "[encoded data removed]",
      "text/plain": [
       "<Figure size 1224x180 with 1 Axes>"
      ]
     },
     "metadata": {
      "needs_background": "light"
     },
     "output_type": "display_data"
    }
   ],
   "source": [
    "tabela_numericas[\"Peso(g)\"].plot(kind='hist', title='Peso(g)',figsize=(17, 2.5), bins=800)"
   ]
  },
  {
   "cell_type": "code",
   "execution_count": 87,
   "id": "ea8ed3d0",
   "metadata": {},
   "outputs": [
    {
     "data": {
      "text/plain": [
       "array([[<AxesSubplot:title={'center':'Valor Apgar'}>,\n",
       "        <AxesSubplot:title={'center':'Paridade'}>]], dtype=object)"
      ]
     },
     "execution_count": 87,
     "metadata": {},
     "output_type": "execute_result"
    },
    {
     "data": {
      "image/png": "[encoded data removed]",
      "text/plain": [
       "<Figure size 1224x180 with 2 Axes>"
      ]
     },
     "metadata": {
      "needs_background": "light"
     },
     "output_type": "display_data"
    }
   ],
   "source": [
    "tabela_numericas[[\"Valor Apgar\", \"Paridade\"]].hist(figsize=(17, 2.5), bins=50)"
   ]
  },
  {
   "cell_type": "markdown",
   "id": "390d0279",
   "metadata": {},
   "source": [
    "__d.__ Determina o percentil 60, 75 e 90 da variável peso."
   ]
  },
  {
   "cell_type": "code",
   "execution_count": 100,
   "id": "b31aaa5f",
   "metadata": {},
   "outputs": [
    {
     "name": "stdout",
     "output_type": "stream",
     "text": [
      "Percentil 60: 3683.6 \n",
      "Percentil 75: 3893.5 \n",
      "Percentil 90: 4104.6\n"
     ]
    }
   ],
   "source": [
    "print(\"Percentil 60:\", tabela_numericas[\"Peso(g)\"].quantile(.6),\n",
    "\"\\nPercentil 75:\", tabela_numericas[\"Peso(g)\"].quantile(.75),\n",
    "\"\\nPercentil 90:\", tabela_numericas[\"Peso(g)\"].quantile(.9))"
   ]
  },
  {
   "cell_type": "code",
   "execution_count": 142,
   "id": "f23df93d",
   "metadata": {},
   "outputs": [
    {
     "data": {
      "text/plain": [
       "[Text(0.5, 1.0, 'Distribuição dos Pesos em quartis')]"
      ]
     },
     "execution_count": 142,
     "metadata": {},
     "output_type": "execute_result"
    },
    {
     "data": {
      "image/png": "[encoded data removed]",
      "text/plain": [
       "<Figure size 432x288 with 1 Axes>"
      ]
     },
     "metadata": {},
     "output_type": "display_data"
    }
   ],
   "source": [
    "#tabela_numericas[\"Peso(g)\"].boxplot()\n",
    "#tabela_numericas.boxplot(column=[\"Peso(g)\"]) \n",
    "sns.set_theme(style=\"whitegrid\")\n",
    "sns.boxplot(x=tabela_numericas[\"Peso(g)\"]).set(title='Distribuição dos Pesos em quartis')"
   ]
  },
  {
   "cell_type": "markdown",
   "id": "9645c29d",
   "metadata": {},
   "source": [
    "__e.__ Determina a variância, o desvio-padrão e o erro-padrão para todas as variáveis numéricas."
   ]
  },
  {
   "cell_type": "code",
   "execution_count": 102,
   "id": "1a4c867f",
   "metadata": {},
   "outputs": [
    {
     "data": {
      "text/plain": [
       "Peso(g)        141941.964368\n",
       "Valor Apgar         1.955172\n",
       "Paridade            2.254023\n",
       "dtype: float64"
      ]
     },
     "execution_count": 102,
     "metadata": {},
     "output_type": "execute_result"
    }
   ],
   "source": [
    "tabela_numericas.var() # variância"
   ]
  },
  {
   "cell_type": "code",
   "execution_count": 103,
   "id": "4524d0d1",
   "metadata": {},
   "outputs": [
    {
     "data": {
      "text/plain": [
       "Peso(g)        376.751860\n",
       "Valor Apgar      1.398275\n",
       "Paridade         1.501340\n",
       "dtype: float64"
      ]
     },
     "execution_count": 103,
     "metadata": {},
     "output_type": "execute_result"
    }
   ],
   "source": [
    "tabela_numericas.std() # desvio-padrão"
   ]
  },
  {
   "cell_type": "code",
   "execution_count": 104,
   "id": "4be23d42",
   "metadata": {},
   "outputs": [
    {
     "data": {
      "text/plain": [
       "Peso(g)        68.785164\n",
       "Valor Apgar     0.255289\n",
       "Paridade        0.274106\n",
       "dtype: float64"
      ]
     },
     "execution_count": 104,
     "metadata": {},
     "output_type": "execute_result"
    }
   ],
   "source": [
    "tabela_numericas.sem() # erro-padrão"
   ]
  },
  {
   "cell_type": "markdown",
   "id": "36d6d583",
   "metadata": {},
   "source": [
    "__f.__ Escreve um resumo sobre esta tabela de forma a veicular o máximo de informação\n",
    "possível de forma sucinta. \"Exemplo: no estudo X % das crianças eram do sexo\n",
    "masculino.\""
   ]
  },
  {
   "cell_type": "code",
   "execution_count": 118,
   "id": "21f14fa0",
   "metadata": {},
   "outputs": [
    {
     "data": {
      "text/plain": [
       "M    0.533333\n",
       "F    0.466667\n",
       "Name: Género, dtype: float64"
      ]
     },
     "execution_count": 118,
     "metadata": {},
     "output_type": "execute_result"
    }
   ],
   "source": [
    "tabela[\"Género\"].value_counts(normalize=True)"
   ]
  },
  {
   "cell_type": "code",
   "execution_count": 119,
   "id": "972c491f",
   "metadata": {},
   "outputs": [
    {
     "data": {
      "text/plain": [
       "não    0.666667\n",
       "sim    0.333333\n",
       "Name: Mãe fumou na gravidez, dtype: float64"
      ]
     },
     "execution_count": 119,
     "metadata": {},
     "output_type": "execute_result"
    }
   ],
   "source": [
    "tabela[\"Mãe fumou na gravidez\"].value_counts(normalize=True)"
   ]
  },
  {
   "cell_type": "markdown",
   "id": "c0980d30",
   "metadata": {},
   "source": [
    "No estudo 53% das crianças que nasceram eram do sexo masculino. Das mães estudadas, 66.66% não fumaram durante a gravidez.\n",
    "<br>O peso médio dos recém nascidos foi de 3644.37 gramas, entre 2860 e 4490 gramas, com desvio padrão de 376.75 gramas. 50% dos recém-nascidos pesam entre 3399.25 e 3893.5 gramas. <br>O Valor Apgar médio dos recém nascidos foi de 6.9, entre 4 e 9, com desvio padrão de 1.398.<br> A maioria das mulheres presentes no estudo já haviam dado a luz anteriormente, com uma média de 1.43 partos por mulher."
   ]
  },
  {
   "cell_type": "code",
   "execution_count": null,
   "id": "dffe7533",
   "metadata": {},
   "outputs": [],
   "source": []
  }
 ],
 "metadata": {
  "kernelspec": {
   "display_name": "Python 3 (ipykernel)",
   "language": "python",
   "name": "python3"
  },
  "language_info": {
   "codemirror_mode": {
    "name": "ipython",
    "version": 3
   },
   "file_extension": ".py",
   "mimetype": "text/x-python",
   "name": "python",
   "nbconvert_exporter": "python",
   "pygments_lexer": "ipython3",
   "version": "3.9.7"
  }
 },
 "nbformat": 4,
 "nbformat_minor": 5
}
