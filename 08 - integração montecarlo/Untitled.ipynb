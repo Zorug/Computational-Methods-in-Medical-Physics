{
 "cells": [
  {
   "cell_type": "code",
   "execution_count": null,
   "id": "9cbe8432-fb77-467a-b8e0-1235b672d8ab",
   "metadata": {},
   "outputs": [],
   "source": [
    "from random import random\n",
    "import numpy as np\n",
    "import matplotlib.pyplot as plt\n",
    "\n",
    "s=[]\n",
    "int1=[]\n",
    "res=[]\n",
    "std=[]\n",
    "N=1000\n",
    "for j in range(1,N,1):\n",
    "    x=0\n",
    "    x2=0\n",
    "    u=0.999\n",
    "    for i in range(N):\n",
    "        r=10*random()\n",
    "        x=x+4*r/((r**2+1)**3)\n",
    "        x2=x2+f(x) # sei lá aqui\n",
    "    int2=(10/j)*x\n",
    "    stderr = 1/np.sqrt(j)*np.sqrt(100*(1/j*x2-(1/j**2)*x**2))\n",
    "    s.append(j)\n",
    "    \n",
    "        \n",
    "        \n",
    "plt.plot(s, int1)\n",
    "plt.plot(s, res)\n",
    "plt.plot(s, std)"
   ]
  },
  {
   "cell_type": "code",
   "execution_count": null,
   "id": "b493aec3-2f89-4881-bf28-8ee297a7c7c0",
   "metadata": {},
   "outputs": [],
   "source": [
    "#Ex. 2\n",
    "def f(x, y):\n",
    "    f=1/(1+x*)\n",
    "s=[]\n",
    "erg=[]\n",
    "th=[]\n",
    "deltaE=[]\n",
    "N=1000\n",
    "for i in range(1,N):\n",
    "    for j in range(1,N)\n",
    "        theta=-np.pi/2+np.pi*random()\n",
    "        energy=1/0.511*np.log(random())\n",
    "        dE+=f(energy, theta)\n",
    "    erg.append(energy)\n",
    "    th.append(theta)\n",
    "    s.append(i)\n",
    "dados={'y':erg}\n",
    "bins=np.arange(0,30,.1)\n",
    "df=pd.DataFrame(data=dados).hist(bins=bins, density=1)\n"
   ]
  }
 ],
 "metadata": {
  "kernelspec": {
   "display_name": "Python 3 (ipykernel)",
   "language": "python",
   "name": "python3"
  },
  "language_info": {
   "codemirror_mode": {
    "name": "ipython",
    "version": 3
   },
   "file_extension": ".py",
   "mimetype": "text/x-python",
   "name": "python",
   "nbconvert_exporter": "python",
   "pygments_lexer": "ipython3",
   "version": "3.9.7"
  }
 },
 "nbformat": 4,
 "nbformat_minor": 5
}
