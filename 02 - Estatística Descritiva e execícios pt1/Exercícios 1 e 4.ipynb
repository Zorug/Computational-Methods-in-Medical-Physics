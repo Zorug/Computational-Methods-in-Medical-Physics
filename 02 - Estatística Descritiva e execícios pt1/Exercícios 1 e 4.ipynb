{
 "cells": [
  {
   "cell_type": "markdown",
   "id": "732e50ff",
   "metadata": {},
   "source": [
    "### Exercício 1\n",
    "(Bowers 2008, Medical Statistics From Scratch) A tabela 1 (adaptada) contém um estudo\n",
    "de casos-controlo sobre a relação entre eventos desgastantes e cancro da mama (Protheroe\n",
    "et al.1999). Identifique o tipo de variáveis na tabela:"
   ]
  },
  {
   "cell_type": "markdown",
   "id": "aa376c0b",
   "metadata": {},
   "source": [
    "### Tipos de Variáveis:\n",
    ">* __Numéricas__:\n",
    "    - Contínuas;\n",
    "    - Discretas;\n",
    ">* __Categóricas__:\n",
    "    - Nominais;\n",
    "    - Ordinais;"
   ]
  },
  {
   "cell_type": "markdown",
   "id": "648d18be",
   "metadata": {},
   "source": [
    "### Exercício 4\n",
    "Em 21 de Fevereiro de 2021, o número de novos casos covid-19 foi de 1186, para um\n",
    "número total de casos confirmados de 797.525. Considerando a população portuguesa\n",
    "como sendo de 10.295.209 habitantes, determine as __taxas de incidência__ e de __prevalência__\n",
    "por 100 mil habitantes."
   ]
  },
  {
   "cell_type": "code",
   "execution_count": 4,
   "id": "62719a74",
   "metadata": {},
   "outputs": [],
   "source": [
    "novos_casos = 1186\n",
    "n_casos_confirmados = 797525\n",
    "pop_portuguesa = 10295209"
   ]
  },
  {
   "cell_type": "markdown",
   "id": "47be34e9",
   "metadata": {},
   "source": [
    "__TAXA DE INCIDÊNCIA:__ Refere-se aos novos casos num intervalo:\n",
    "$\\frac{Nº de Casos Novos}{População Total}$"
   ]
  },
  {
   "cell_type": "code",
   "execution_count": 28,
   "id": "d1d8f0f2",
   "metadata": {},
   "outputs": [
    {
     "name": "stdout",
     "output_type": "stream",
     "text": [
      "A Taxa de incidência por 100 mil habitantes é de 11.52 \n"
     ]
    }
   ],
   "source": [
    "TX_INC = novos_casos/pop_portuguesa\n",
    "INC_100k = TX_INC*100000 # para cada 100 mil habitantes\n",
    "print(f\"A Taxa de incidência por 100 mil habitantes é de {INC_100k:.2f} \")"
   ]
  },
  {
   "cell_type": "markdown",
   "id": "1b44aa90",
   "metadata": {},
   "source": [
    "__TAXA DE PREVALÊNCIA:__ Refere-se aos casos existentes até o momento, ou num intervalo:\n",
    "$\\frac{Nº Total de Casos}{População Total}$"
   ]
  },
  {
   "cell_type": "code",
   "execution_count": 26,
   "id": "0d7f0713",
   "metadata": {},
   "outputs": [
    {
     "name": "stdout",
     "output_type": "stream",
     "text": [
      "A Taxa de prevalência por 100 mil habitantes é de 7746.56 \n"
     ]
    }
   ],
   "source": [
    "TX_PRV = n_casos_confirmados/pop_portuguesa\n",
    "PRV_100k = TX_PRV*100000 # para cada 100 mil habitantes\n",
    "print(f\"A Taxa de prevalência por 100 mil habitantes é de {PRV_100k:.2f} \")"
   ]
  },
  {
   "cell_type": "code",
   "execution_count": null,
   "id": "20801c41",
   "metadata": {},
   "outputs": [],
   "source": []
  }
 ],
 "metadata": {
  "kernelspec": {
   "display_name": "Python 3 (ipykernel)",
   "language": "python",
   "name": "python3"
  },
  "language_info": {
   "codemirror_mode": {
    "name": "ipython",
    "version": 3
   },
   "file_extension": ".py",
   "mimetype": "text/x-python",
   "name": "python",
   "nbconvert_exporter": "python",
   "pygments_lexer": "ipython3",
   "version": "3.9.7"
  }
 },
 "nbformat": 4,
 "nbformat_minor": 5
}
